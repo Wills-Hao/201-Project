{
 "cells": [
  {
   "cell_type": "code",
   "execution_count": 1,
   "id": "cf48ac15-384b-456a-88cf-bdc644b60f10",
   "metadata": {},
   "outputs": [
    {
     "name": "stderr",
     "output_type": "stream",
     "text": [
      "\n",
      "Attaching package: ‘dplyr’\n",
      "\n",
      "\n",
      "The following objects are masked from ‘package:stats’:\n",
      "\n",
      "    filter, lag\n",
      "\n",
      "\n",
      "The following objects are masked from ‘package:base’:\n",
      "\n",
      "    intersect, setdiff, setequal, union\n",
      "\n",
      "\n",
      "\n",
      "Attaching package: ‘gridExtra’\n",
      "\n",
      "\n",
      "The following object is masked from ‘package:dplyr’:\n",
      "\n",
      "    combine\n",
      "\n",
      "\n",
      "── \u001b[1mAttaching packages\u001b[22m ─────────────────────────────────────── tidyverse 1.3.0 ──\n",
      "\n",
      "\u001b[32m✔\u001b[39m \u001b[34mggplot2\u001b[39m 3.3.6     \u001b[32m✔\u001b[39m \u001b[34mpurrr  \u001b[39m 0.3.4\n",
      "\u001b[32m✔\u001b[39m \u001b[34mtibble \u001b[39m 3.1.7     \u001b[32m✔\u001b[39m \u001b[34mstringr\u001b[39m 1.4.0\n",
      "\u001b[32m✔\u001b[39m \u001b[34mtidyr  \u001b[39m 1.2.0     \u001b[32m✔\u001b[39m \u001b[34mforcats\u001b[39m 0.5.1\n",
      "\u001b[32m✔\u001b[39m \u001b[34mreadr  \u001b[39m 2.1.2     \n",
      "\n",
      "── \u001b[1mConflicts\u001b[22m ────────────────────────────────────────── tidyverse_conflicts() ──\n",
      "\u001b[31m✖\u001b[39m \u001b[34mgridExtra\u001b[39m::\u001b[32mcombine()\u001b[39m masks \u001b[34mdplyr\u001b[39m::combine()\n",
      "\u001b[31m✖\u001b[39m \u001b[34mdplyr\u001b[39m::\u001b[32mfilter()\u001b[39m      masks \u001b[34mstats\u001b[39m::filter()\n",
      "\u001b[31m✖\u001b[39m \u001b[34mdplyr\u001b[39m::\u001b[32mlag()\u001b[39m         masks \u001b[34mstats\u001b[39m::lag()\n",
      "\n",
      "\u001b[1mRows: \u001b[22m\u001b[34m245\u001b[39m \u001b[1mColumns: \u001b[22m\u001b[34m11\u001b[39m\n",
      "\u001b[36m──\u001b[39m \u001b[1mColumn specification\u001b[22m \u001b[36m────────────────────────────────────────────────────────\u001b[39m\n",
      "\u001b[1mDelimiter:\u001b[22m \",\"\n",
      "\u001b[31mchr\u001b[39m (7): experience_level, employment_type, job_title, salary_currency, empl...\n",
      "\u001b[32mdbl\u001b[39m (4): work_year, salary, salary_in_usd, remote_ratio\n",
      "\n",
      "\u001b[36mℹ\u001b[39m Use `spec()` to retrieve the full column specification for this data.\n",
      "\u001b[36mℹ\u001b[39m Specify the column types or set `show_col_types = FALSE` to quiet this message.\n"
     ]
    }
   ],
   "source": [
    "library(cowplot)\n",
    "library(dplyr)\n",
    "library(gridExtra)\n",
    "library(tidyverse)\n",
    "library(repr)\n",
    "library(infer)\n",
    "library(repr)\n",
    "DsSalary <- read_csv(\"/home/jupyter/project/Data_Science_Jobs_Salaries.csv\")\n"
   ]
  },
  {
   "cell_type": "code",
   "execution_count": 2,
   "id": "9917b845-7eac-4b4c-9742-0045f3b2aabb",
   "metadata": {},
   "outputs": [
    {
     "data": {
      "text/html": [
       "<table class=\"dataframe\">\n",
       "<caption>A tibble: 6 × 11</caption>\n",
       "<thead>\n",
       "\t<tr><th scope=col>work_year</th><th scope=col>experience_level</th><th scope=col>employment_type</th><th scope=col>job_title</th><th scope=col>salary</th><th scope=col>salary_currency</th><th scope=col>salary_in_usd</th><th scope=col>employee_residence</th><th scope=col>remote_ratio</th><th scope=col>company_location</th><th scope=col>company_size</th></tr>\n",
       "\t<tr><th scope=col>&lt;dbl&gt;</th><th scope=col>&lt;chr&gt;</th><th scope=col>&lt;chr&gt;</th><th scope=col>&lt;chr&gt;</th><th scope=col>&lt;dbl&gt;</th><th scope=col>&lt;chr&gt;</th><th scope=col>&lt;dbl&gt;</th><th scope=col>&lt;chr&gt;</th><th scope=col>&lt;dbl&gt;</th><th scope=col>&lt;chr&gt;</th><th scope=col>&lt;chr&gt;</th></tr>\n",
       "</thead>\n",
       "<tbody>\n",
       "\t<tr><td>2021</td><td>EN</td><td>FT</td><td>Data Science Consultant  </td><td> 54000</td><td>EUR</td><td> 64369</td><td>DE</td><td> 50</td><td>DE</td><td>L</td></tr>\n",
       "\t<tr><td>2020</td><td>SE</td><td>FT</td><td>Data Scientist           </td><td> 60000</td><td>EUR</td><td> 68428</td><td>GR</td><td>100</td><td>US</td><td>L</td></tr>\n",
       "\t<tr><td>2021</td><td>EX</td><td>FT</td><td>Head of Data Science     </td><td> 85000</td><td>USD</td><td> 85000</td><td>RU</td><td>  0</td><td>RU</td><td>M</td></tr>\n",
       "\t<tr><td>2021</td><td>EX</td><td>FT</td><td>Head of Data             </td><td>230000</td><td>USD</td><td>230000</td><td>RU</td><td> 50</td><td>RU</td><td>L</td></tr>\n",
       "\t<tr><td>2021</td><td>EN</td><td>FT</td><td>Machine Learning Engineer</td><td>125000</td><td>USD</td><td>125000</td><td>US</td><td>100</td><td>US</td><td>S</td></tr>\n",
       "\t<tr><td>2021</td><td>SE</td><td>FT</td><td>Data Analytics Manager   </td><td>120000</td><td>USD</td><td>120000</td><td>US</td><td>100</td><td>US</td><td>M</td></tr>\n",
       "</tbody>\n",
       "</table>\n"
      ],
      "text/latex": [
       "A tibble: 6 × 11\n",
       "\\begin{tabular}{lllllllllll}\n",
       " work\\_year & experience\\_level & employment\\_type & job\\_title & salary & salary\\_currency & salary\\_in\\_usd & employee\\_residence & remote\\_ratio & company\\_location & company\\_size\\\\\n",
       " <dbl> & <chr> & <chr> & <chr> & <dbl> & <chr> & <dbl> & <chr> & <dbl> & <chr> & <chr>\\\\\n",
       "\\hline\n",
       "\t 2021 & EN & FT & Data Science Consultant   &  54000 & EUR &  64369 & DE &  50 & DE & L\\\\\n",
       "\t 2020 & SE & FT & Data Scientist            &  60000 & EUR &  68428 & GR & 100 & US & L\\\\\n",
       "\t 2021 & EX & FT & Head of Data Science      &  85000 & USD &  85000 & RU &   0 & RU & M\\\\\n",
       "\t 2021 & EX & FT & Head of Data              & 230000 & USD & 230000 & RU &  50 & RU & L\\\\\n",
       "\t 2021 & EN & FT & Machine Learning Engineer & 125000 & USD & 125000 & US & 100 & US & S\\\\\n",
       "\t 2021 & SE & FT & Data Analytics Manager    & 120000 & USD & 120000 & US & 100 & US & M\\\\\n",
       "\\end{tabular}\n"
      ],
      "text/markdown": [
       "\n",
       "A tibble: 6 × 11\n",
       "\n",
       "| work_year &lt;dbl&gt; | experience_level &lt;chr&gt; | employment_type &lt;chr&gt; | job_title &lt;chr&gt; | salary &lt;dbl&gt; | salary_currency &lt;chr&gt; | salary_in_usd &lt;dbl&gt; | employee_residence &lt;chr&gt; | remote_ratio &lt;dbl&gt; | company_location &lt;chr&gt; | company_size &lt;chr&gt; |\n",
       "|---|---|---|---|---|---|---|---|---|---|---|\n",
       "| 2021 | EN | FT | Data Science Consultant   |  54000 | EUR |  64369 | DE |  50 | DE | L |\n",
       "| 2020 | SE | FT | Data Scientist            |  60000 | EUR |  68428 | GR | 100 | US | L |\n",
       "| 2021 | EX | FT | Head of Data Science      |  85000 | USD |  85000 | RU |   0 | RU | M |\n",
       "| 2021 | EX | FT | Head of Data              | 230000 | USD | 230000 | RU |  50 | RU | L |\n",
       "| 2021 | EN | FT | Machine Learning Engineer | 125000 | USD | 125000 | US | 100 | US | S |\n",
       "| 2021 | SE | FT | Data Analytics Manager    | 120000 | USD | 120000 | US | 100 | US | M |\n",
       "\n"
      ],
      "text/plain": [
       "  work_year experience_level employment_type job_title                 salary\n",
       "1 2021      EN               FT              Data Science Consultant    54000\n",
       "2 2020      SE               FT              Data Scientist             60000\n",
       "3 2021      EX               FT              Head of Data Science       85000\n",
       "4 2021      EX               FT              Head of Data              230000\n",
       "5 2021      EN               FT              Machine Learning Engineer 125000\n",
       "6 2021      SE               FT              Data Analytics Manager    120000\n",
       "  salary_currency salary_in_usd employee_residence remote_ratio\n",
       "1 EUR              64369        DE                  50         \n",
       "2 EUR              68428        GR                 100         \n",
       "3 USD              85000        RU                   0         \n",
       "4 USD             230000        RU                  50         \n",
       "5 USD             125000        US                 100         \n",
       "6 USD             120000        US                 100         \n",
       "  company_location company_size\n",
       "1 DE               L           \n",
       "2 US               L           \n",
       "3 RU               M           \n",
       "4 RU               L           \n",
       "5 US               S           \n",
       "6 US               M           "
      ]
     },
     "metadata": {},
     "output_type": "display_data"
    }
   ],
   "source": [
    "head(DsSalary)"
   ]
  },
  {
   "cell_type": "code",
   "execution_count": 3,
   "id": "c3af5c42-f73e-47fb-b357-8ffab0be051a",
   "metadata": {},
   "outputs": [
    {
     "data": {
      "text/html": [
       "<table class=\"dataframe\">\n",
       "<caption>A tibble: 6 × 2</caption>\n",
       "<thead>\n",
       "\t<tr><th scope=col>remote_ratio</th><th scope=col>salary_in_usd</th></tr>\n",
       "\t<tr><th scope=col>&lt;dbl&gt;</th><th scope=col>&lt;dbl&gt;</th></tr>\n",
       "</thead>\n",
       "<tbody>\n",
       "\t<tr><td>100</td><td> 68428</td></tr>\n",
       "\t<tr><td>  0</td><td> 85000</td></tr>\n",
       "\t<tr><td>100</td><td>125000</td></tr>\n",
       "\t<tr><td>100</td><td>120000</td></tr>\n",
       "\t<tr><td>  0</td><td>450000</td></tr>\n",
       "\t<tr><td>100</td><td>144000</td></tr>\n",
       "</tbody>\n",
       "</table>\n"
      ],
      "text/latex": [
       "A tibble: 6 × 2\n",
       "\\begin{tabular}{ll}\n",
       " remote\\_ratio & salary\\_in\\_usd\\\\\n",
       " <dbl> & <dbl>\\\\\n",
       "\\hline\n",
       "\t 100 &  68428\\\\\n",
       "\t   0 &  85000\\\\\n",
       "\t 100 & 125000\\\\\n",
       "\t 100 & 120000\\\\\n",
       "\t   0 & 450000\\\\\n",
       "\t 100 & 144000\\\\\n",
       "\\end{tabular}\n"
      ],
      "text/markdown": [
       "\n",
       "A tibble: 6 × 2\n",
       "\n",
       "| remote_ratio &lt;dbl&gt; | salary_in_usd &lt;dbl&gt; |\n",
       "|---|---|\n",
       "| 100 |  68428 |\n",
       "|   0 |  85000 |\n",
       "| 100 | 125000 |\n",
       "| 100 | 120000 |\n",
       "|   0 | 450000 |\n",
       "| 100 | 144000 |\n",
       "\n"
      ],
      "text/plain": [
       "  remote_ratio salary_in_usd\n",
       "1 100           68428       \n",
       "2   0           85000       \n",
       "3 100          125000       \n",
       "4 100          120000       \n",
       "5   0          450000       \n",
       "6 100          144000       "
      ]
     },
     "metadata": {},
     "output_type": "display_data"
    }
   ],
   "source": [
    "clean_DsSalary <- DsSalary %>%\n",
    "                  filter(!is.na(salary_in_usd&remote_ratio),\n",
    "                         remote_ratio %in% c(0, 100)) %>%\n",
    "                  select(remote_ratio, salary_in_usd)\n",
    "head(clean_DsSalary)"
   ]
  },
  {
   "cell_type": "code",
   "execution_count": 19,
   "id": "420902aa-218a-4f43-8eea-c8e265ee1b27",
   "metadata": {},
   "outputs": [
    {
     "data": {
      "text/html": [
       "<table class=\"dataframe\">\n",
       "<caption>A tibble: 1 × 1</caption>\n",
       "<thead>\n",
       "\t<tr><th scope=col>remote_proportion</th></tr>\n",
       "\t<tr><th scope=col>&lt;dbl&gt;</th></tr>\n",
       "</thead>\n",
       "<tbody>\n",
       "\t<tr><td>0.7701149</td></tr>\n",
       "</tbody>\n",
       "</table>\n"
      ],
      "text/latex": [
       "A tibble: 1 × 1\n",
       "\\begin{tabular}{l}\n",
       " remote\\_proportion\\\\\n",
       " <dbl>\\\\\n",
       "\\hline\n",
       "\t 0.7701149\\\\\n",
       "\\end{tabular}\n"
      ],
      "text/markdown": [
       "\n",
       "A tibble: 1 × 1\n",
       "\n",
       "| remote_proportion &lt;dbl&gt; |\n",
       "|---|\n",
       "| 0.7701149 |\n",
       "\n"
      ],
      "text/plain": [
       "  remote_proportion\n",
       "1 0.7701149        "
      ]
     },
     "metadata": {},
     "output_type": "display_data"
    },
    {
     "data": {
      "text/html": [
       "<table class=\"dataframe\">\n",
       "<caption>A tibble: 1 × 1</caption>\n",
       "<thead>\n",
       "\t<tr><th scope=col>no_remote_proportion</th></tr>\n",
       "\t<tr><th scope=col>&lt;dbl&gt;</th></tr>\n",
       "</thead>\n",
       "<tbody>\n",
       "\t<tr><td>0.2298851</td></tr>\n",
       "</tbody>\n",
       "</table>\n"
      ],
      "text/latex": [
       "A tibble: 1 × 1\n",
       "\\begin{tabular}{l}\n",
       " no\\_remote\\_proportion\\\\\n",
       " <dbl>\\\\\n",
       "\\hline\n",
       "\t 0.2298851\\\\\n",
       "\\end{tabular}\n"
      ],
      "text/markdown": [
       "\n",
       "A tibble: 1 × 1\n",
       "\n",
       "| no_remote_proportion &lt;dbl&gt; |\n",
       "|---|\n",
       "| 0.2298851 |\n",
       "\n"
      ],
      "text/plain": [
       "  no_remote_proportion\n",
       "1 0.2298851           "
      ]
     },
     "metadata": {},
     "output_type": "display_data"
    }
   ],
   "source": [
    "ratio_remote <- clean_DsSalary %>%\n",
    "                summarize(x = sum(remote_ratio == 100),\n",
    "                          n = n(),\n",
    "                          remote_proportion = x/n) %>%\n",
    "                select(remote_proportion)\n",
    "\n",
    "ratio_no_remote <- clean_DsSalary %>%\n",
    "                   summarize(x = sum(remote_ratio == 0),\n",
    "                             n = n(),\n",
    "                             no_remote_proportion = x/n) %>%\n",
    "                select(no_remote_proportion) \n",
    "ratio_remote\n",
    "ratio_no_remote"
   ]
  },
  {
   "cell_type": "code",
   "execution_count": 34,
   "id": "d93ab280-4bbd-4ee7-85b5-ae02485efbdc",
   "metadata": {},
   "outputs": [
    {
     "data": {
      "text/html": [
       "<table class=\"dataframe\">\n",
       "<caption>A tibble: 1 × 2</caption>\n",
       "<thead>\n",
       "\t<tr><th scope=col>mean</th><th scope=col>median</th></tr>\n",
       "\t<tr><th scope=col>&lt;dbl&gt;</th><th scope=col>&lt;dbl&gt;</th></tr>\n",
       "</thead>\n",
       "<tbody>\n",
       "\t<tr><td>137703</td><td>119523.5</td></tr>\n",
       "</tbody>\n",
       "</table>\n"
      ],
      "text/latex": [
       "A tibble: 1 × 2\n",
       "\\begin{tabular}{ll}\n",
       " mean & median\\\\\n",
       " <dbl> & <dbl>\\\\\n",
       "\\hline\n",
       "\t 137703 & 119523.5\\\\\n",
       "\\end{tabular}\n"
      ],
      "text/markdown": [
       "\n",
       "A tibble: 1 × 2\n",
       "\n",
       "| mean &lt;dbl&gt; | median &lt;dbl&gt; |\n",
       "|---|---|\n",
       "| 137703 | 119523.5 |\n",
       "\n"
      ],
      "text/plain": [
       "  mean   median  \n",
       "1 137703 119523.5"
      ]
     },
     "metadata": {},
     "output_type": "display_data"
    }
   ],
   "source": [
    "set.seed(100)\n",
    "size_ratio_remote <- ratio_no_remote$no_remote_proportion *nrow(clean_DsSalary)\n",
    "sampled_remote_df <- clean_DsSalary %>%\n",
    "                  filter(remote_ratio == 100) %>%\n",
    "                  rep_sample_n(size = size_ratio_remote) %>%\n",
    "                  ungroup() %>%\n",
    "                  select(salary_in_usd)\n",
    "\n",
    "remote_mean_median <- sampled_remote_df %>%\n",
    "                        summarise(mean = mean(salary_in_usd),\n",
    "                                  median = median(salary_in_usd))\n",
    "remote_mean_median"
   ]
  },
  {
   "cell_type": "code",
   "execution_count": 35,
   "id": "5db8fd5f-9a60-42f9-83d7-17495598394b",
   "metadata": {},
   "outputs": [
    {
     "data": {
      "text/html": [
       "<table class=\"dataframe\">\n",
       "<caption>A tibble: 1 × 2</caption>\n",
       "<thead>\n",
       "\t<tr><th scope=col>mean</th><th scope=col>median</th></tr>\n",
       "\t<tr><th scope=col>&lt;dbl&gt;</th><th scope=col>&lt;dbl&gt;</th></tr>\n",
       "</thead>\n",
       "<tbody>\n",
       "\t<tr><td>84962.45</td><td>69721</td></tr>\n",
       "</tbody>\n",
       "</table>\n"
      ],
      "text/latex": [
       "A tibble: 1 × 2\n",
       "\\begin{tabular}{ll}\n",
       " mean & median\\\\\n",
       " <dbl> & <dbl>\\\\\n",
       "\\hline\n",
       "\t 84962.45 & 69721\\\\\n",
       "\\end{tabular}\n"
      ],
      "text/markdown": [
       "\n",
       "A tibble: 1 × 2\n",
       "\n",
       "| mean &lt;dbl&gt; | median &lt;dbl&gt; |\n",
       "|---|---|\n",
       "| 84962.45 | 69721 |\n",
       "\n"
      ],
      "text/plain": [
       "  mean     median\n",
       "1 84962.45 69721 "
      ]
     },
     "metadata": {},
     "output_type": "display_data"
    }
   ],
   "source": [
    "no_remote_df <- clean_DsSalary %>%\n",
    "                filter(remote_ratio == 0) %>%\n",
    "                select(salary_in_usd)\n",
    "no_remote_mean_median <- no_remote_df %>%\n",
    "                         summarise(mean = mean(salary_in_usd),\n",
    "                                   median = median(salary_in_usd))\n",
    "no_remote_mean_median"
   ]
  },
  {
   "cell_type": "code",
   "execution_count": 41,
   "id": "88a613b8-527f-4e92-9660-b941ec4e2a4a",
   "metadata": {},
   "outputs": [
    {
     "data": {
      "image/png": "[encoded data removed]",
      "text/plain": [
       "plot without title"
      ]
     },
     "metadata": {
      "image/png": {
       "height": 900,
       "width": 900
      }
     },
     "output_type": "display_data"
    }
   ],
   "source": [
    "remote_distribution <- remote_df %>%\n",
    "                          ggplot(aes(x=salary_in_usd)) +\n",
    "                          geom_histogram(bins=100) +\n",
    "                          geom_vline(xintercept = remote_mean_median$mean, colour = \"red\", size = 1)\n",
    "no_remote_distribution <- no_remote_df %>%\n",
    "                          ggplot(aes(x=salary_in_usd)) +\n",
    "                          geom_histogram(bins=100) +\n",
    "                          geom_vline(xintercept = no_remote_mean_median$mean, colour = \"red\", size = 1)\n",
    "\n",
    "options(repr.plot.width = 15, repr.plot.height = 15) # temp\n",
    "\n",
    "mean_plot_row <- plot_grid(remote_distribution,\n",
    "                           no_remote_distribution,\n",
    "                           nrow = 2)\n",
    "mean_plot_row"
   ]
  },
  {
   "cell_type": "code",
   "execution_count": null,
   "id": "87ea2d09-5de8-47b4-8a98-3014fa7c1c3c",
   "metadata": {},
   "outputs": [],
   "source": []
  }
 ],
 "metadata": {
  "kernelspec": {
   "display_name": "R",
   "language": "R",
   "name": "ir"
  },
  "language_info": {
   "codemirror_mode": "r",
   "file_extension": ".r",
   "mimetype": "text/x-r-source",
   "name": "R",
   "pygments_lexer": "r",
   "version": "4.0.5"
  }
 },
 "nbformat": 4,
 "nbformat_minor": 5
}
