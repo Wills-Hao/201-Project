{
 "cells": [
  {
   "cell_type": "markdown",
   "id": "ccc2beff-6d57-4804-8254-b7ba2ba33f46",
   "metadata": {},
   "source": [
    "# Project Proposal"
   ]
  },
  {
   "cell_type": "markdown",
   "id": "01aba862-f549-4069-b398-0a2a836edac1",
   "metadata": {},
   "source": [
    "Group Number: 4"
   ]
  },
  {
   "cell_type": "markdown",
   "id": "aa42d8c3-943f-4464-bc63-a7e81f607bdb",
   "metadata": {},
   "source": [
    "Group Members:Kaiji Lo, Hao Jiang, Jezarah Ebel, Yoson Hsu, Amar Gill"
   ]
  },
  {
   "cell_type": "markdown",
   "id": "7db04a6f-e24c-416a-8079-e218849fa641",
   "metadata": {},
   "source": [
    "Data Set: Data Science Jobs Salaries"
   ]
  },
  {
   "cell_type": "code",
   "execution_count": 2,
   "id": "cf48ac15-384b-456a-88cf-bdc644b60f10",
   "metadata": {},
   "outputs": [
    {
     "name": "stderr",
     "output_type": "stream",
     "text": [
      "\n",
      "Attaching package: ‘dplyr’\n",
      "\n",
      "\n",
      "The following objects are masked from ‘package:stats’:\n",
      "\n",
      "    filter, lag\n",
      "\n",
      "\n",
      "The following objects are masked from ‘package:base’:\n",
      "\n",
      "    intersect, setdiff, setequal, union\n",
      "\n",
      "\n",
      "\n",
      "Attaching package: ‘gridExtra’\n",
      "\n",
      "\n",
      "The following object is masked from ‘package:dplyr’:\n",
      "\n",
      "    combine\n",
      "\n",
      "\n",
      "── \u001b[1mAttaching packages\u001b[22m ─────────────────────────────────────── tidyverse 1.3.0 ──\n",
      "\n",
      "\u001b[32m✔\u001b[39m \u001b[34mggplot2\u001b[39m 3.3.6     \u001b[32m✔\u001b[39m \u001b[34mpurrr  \u001b[39m 0.3.4\n",
      "\u001b[32m✔\u001b[39m \u001b[34mtibble \u001b[39m 3.1.7     \u001b[32m✔\u001b[39m \u001b[34mstringr\u001b[39m 1.4.0\n",
      "\u001b[32m✔\u001b[39m \u001b[34mtidyr  \u001b[39m 1.2.0     \u001b[32m✔\u001b[39m \u001b[34mforcats\u001b[39m 0.5.1\n",
      "\u001b[32m✔\u001b[39m \u001b[34mreadr  \u001b[39m 2.1.2     \n",
      "\n",
      "── \u001b[1mConflicts\u001b[22m ────────────────────────────────────────── tidyverse_conflicts() ──\n",
      "\u001b[31m✖\u001b[39m \u001b[34mgridExtra\u001b[39m::\u001b[32mcombine()\u001b[39m masks \u001b[34mdplyr\u001b[39m::combine()\n",
      "\u001b[31m✖\u001b[39m \u001b[34mdplyr\u001b[39m::\u001b[32mfilter()\u001b[39m      masks \u001b[34mstats\u001b[39m::filter()\n",
      "\u001b[31m✖\u001b[39m \u001b[34mdplyr\u001b[39m::\u001b[32mlag()\u001b[39m         masks \u001b[34mstats\u001b[39m::lag()\n",
      "\n"
     ]
    }
   ],
   "source": [
    "library(cowplot)\n",
    "library(dplyr)\n",
    "library(gridExtra)\n",
    "library(tidyverse)\n",
    "library(repr)\n",
    "library(infer)"
   ]
  },
  {
   "cell_type": "markdown",
   "id": "81e92445-1498-4254-9808-2d98f2233480",
   "metadata": {},
   "source": [
    "## Introduction"
   ]
  },
  {
   "cell_type": "markdown",
   "id": "04578824-a7de-48ac-9bd4-d4d59a9c5276",
   "metadata": {},
   "source": [
    "During COVID-19 the work from home (WFH) model was adopted by many companies to keep employees safe from the virus; 32% of Canadian employees in 2021 worked from home compared to 4% in 2016 (Mehdi). In general, it has been proven that employee’s productivity is not affected if their personal work environment at home provides good privacy, noise, and allows developers to work with less fragmentation or interruptions (Bao). However, companies have in practice determined compensation, based on the location the employee is working from.\n",
    "\n",
    "If switching from an in office to WFH model, how much can an employee in the Data Science industry expect their salary, on average (mean) and with what spread (standard deviation), to change by?\n",
    "\n",
    "To explore this question, the dataset that we will be using, Data Science Jobs Salaries Dataset, includes salary data for employees in the data science industry such as the work year, experience level, employment type, the job title, salary, employee residence, the ratio of remote work, location of company, and size of company. To answer our questions, we will be looking at the salary in USD and the ratio of remote work (0% remote vs. 100% remote).\n"
   ]
  },
  {
   "cell_type": "markdown",
   "id": "84d9694f-84b9-469a-b63e-4bc3bd39a597",
   "metadata": {},
   "source": [
    "# Preliminary Results"
   ]
  },
  {
   "cell_type": "markdown",
   "id": "62b412ea-5044-4250-9a92-d30bd528b489",
   "metadata": {},
   "source": [
    "## Cleaning and Wrangling of Data"
   ]
  },
  {
   "cell_type": "code",
   "execution_count": 3,
   "id": "9917b845-7eac-4b4c-9742-0045f3b2aabb",
   "metadata": {},
   "outputs": [
    {
     "name": "stderr",
     "output_type": "stream",
     "text": [
      "\u001b[1mRows: \u001b[22m\u001b[34m245\u001b[39m \u001b[1mColumns: \u001b[22m\u001b[34m11\u001b[39m\n",
      "\u001b[36m──\u001b[39m \u001b[1mColumn specification\u001b[22m \u001b[36m────────────────────────────────────────────────────────\u001b[39m\n",
      "\u001b[1mDelimiter:\u001b[22m \",\"\n",
      "\u001b[31mchr\u001b[39m (7): experience_level, employment_type, job_title, salary_currency, empl...\n",
      "\u001b[32mdbl\u001b[39m (4): work_year, salary, salary_in_usd, remote_ratio\n",
      "\n",
      "\u001b[36mℹ\u001b[39m Use `spec()` to retrieve the full column specification for this data.\n",
      "\u001b[36mℹ\u001b[39m Specify the column types or set `show_col_types = FALSE` to quiet this message.\n"
     ]
    },
    {
     "data": {
      "text/html": [
       "<table class=\"dataframe\">\n",
       "<caption>A tibble: 6 × 11</caption>\n",
       "<thead>\n",
       "\t<tr><th scope=col>work_year</th><th scope=col>experience_level</th><th scope=col>employment_type</th><th scope=col>job_title</th><th scope=col>salary</th><th scope=col>salary_currency</th><th scope=col>salary_in_usd</th><th scope=col>employee_residence</th><th scope=col>remote_ratio</th><th scope=col>company_location</th><th scope=col>company_size</th></tr>\n",
       "\t<tr><th scope=col>&lt;dbl&gt;</th><th scope=col>&lt;chr&gt;</th><th scope=col>&lt;chr&gt;</th><th scope=col>&lt;chr&gt;</th><th scope=col>&lt;dbl&gt;</th><th scope=col>&lt;chr&gt;</th><th scope=col>&lt;dbl&gt;</th><th scope=col>&lt;chr&gt;</th><th scope=col>&lt;dbl&gt;</th><th scope=col>&lt;chr&gt;</th><th scope=col>&lt;chr&gt;</th></tr>\n",
       "</thead>\n",
       "<tbody>\n",
       "\t<tr><td>2021</td><td>EN</td><td>FT</td><td>Data Science Consultant  </td><td> 54000</td><td>EUR</td><td> 64369</td><td>DE</td><td> 50</td><td>DE</td><td>L</td></tr>\n",
       "\t<tr><td>2020</td><td>SE</td><td>FT</td><td>Data Scientist           </td><td> 60000</td><td>EUR</td><td> 68428</td><td>GR</td><td>100</td><td>US</td><td>L</td></tr>\n",
       "\t<tr><td>2021</td><td>EX</td><td>FT</td><td>Head of Data Science     </td><td> 85000</td><td>USD</td><td> 85000</td><td>RU</td><td>  0</td><td>RU</td><td>M</td></tr>\n",
       "\t<tr><td>2021</td><td>EX</td><td>FT</td><td>Head of Data             </td><td>230000</td><td>USD</td><td>230000</td><td>RU</td><td> 50</td><td>RU</td><td>L</td></tr>\n",
       "\t<tr><td>2021</td><td>EN</td><td>FT</td><td>Machine Learning Engineer</td><td>125000</td><td>USD</td><td>125000</td><td>US</td><td>100</td><td>US</td><td>S</td></tr>\n",
       "\t<tr><td>2021</td><td>SE</td><td>FT</td><td>Data Analytics Manager   </td><td>120000</td><td>USD</td><td>120000</td><td>US</td><td>100</td><td>US</td><td>M</td></tr>\n",
       "</tbody>\n",
       "</table>\n"
      ],
      "text/latex": [
       "A tibble: 6 × 11\n",
       "\\begin{tabular}{lllllllllll}\n",
       " work\\_year & experience\\_level & employment\\_type & job\\_title & salary & salary\\_currency & salary\\_in\\_usd & employee\\_residence & remote\\_ratio & company\\_location & company\\_size\\\\\n",
       " <dbl> & <chr> & <chr> & <chr> & <dbl> & <chr> & <dbl> & <chr> & <dbl> & <chr> & <chr>\\\\\n",
       "\\hline\n",
       "\t 2021 & EN & FT & Data Science Consultant   &  54000 & EUR &  64369 & DE &  50 & DE & L\\\\\n",
       "\t 2020 & SE & FT & Data Scientist            &  60000 & EUR &  68428 & GR & 100 & US & L\\\\\n",
       "\t 2021 & EX & FT & Head of Data Science      &  85000 & USD &  85000 & RU &   0 & RU & M\\\\\n",
       "\t 2021 & EX & FT & Head of Data              & 230000 & USD & 230000 & RU &  50 & RU & L\\\\\n",
       "\t 2021 & EN & FT & Machine Learning Engineer & 125000 & USD & 125000 & US & 100 & US & S\\\\\n",
       "\t 2021 & SE & FT & Data Analytics Manager    & 120000 & USD & 120000 & US & 100 & US & M\\\\\n",
       "\\end{tabular}\n"
      ],
      "text/markdown": [
       "\n",
       "A tibble: 6 × 11\n",
       "\n",
       "| work_year &lt;dbl&gt; | experience_level &lt;chr&gt; | employment_type &lt;chr&gt; | job_title &lt;chr&gt; | salary &lt;dbl&gt; | salary_currency &lt;chr&gt; | salary_in_usd &lt;dbl&gt; | employee_residence &lt;chr&gt; | remote_ratio &lt;dbl&gt; | company_location &lt;chr&gt; | company_size &lt;chr&gt; |\n",
       "|---|---|---|---|---|---|---|---|---|---|---|\n",
       "| 2021 | EN | FT | Data Science Consultant   |  54000 | EUR |  64369 | DE |  50 | DE | L |\n",
       "| 2020 | SE | FT | Data Scientist            |  60000 | EUR |  68428 | GR | 100 | US | L |\n",
       "| 2021 | EX | FT | Head of Data Science      |  85000 | USD |  85000 | RU |   0 | RU | M |\n",
       "| 2021 | EX | FT | Head of Data              | 230000 | USD | 230000 | RU |  50 | RU | L |\n",
       "| 2021 | EN | FT | Machine Learning Engineer | 125000 | USD | 125000 | US | 100 | US | S |\n",
       "| 2021 | SE | FT | Data Analytics Manager    | 120000 | USD | 120000 | US | 100 | US | M |\n",
       "\n"
      ],
      "text/plain": [
       "  work_year experience_level employment_type job_title                 salary\n",
       "1 2021      EN               FT              Data Science Consultant    54000\n",
       "2 2020      SE               FT              Data Scientist             60000\n",
       "3 2021      EX               FT              Head of Data Science       85000\n",
       "4 2021      EX               FT              Head of Data              230000\n",
       "5 2021      EN               FT              Machine Learning Engineer 125000\n",
       "6 2021      SE               FT              Data Analytics Manager    120000\n",
       "  salary_currency salary_in_usd employee_residence remote_ratio\n",
       "1 EUR              64369        DE                  50         \n",
       "2 EUR              68428        GR                 100         \n",
       "3 USD              85000        RU                   0         \n",
       "4 USD             230000        RU                  50         \n",
       "5 USD             125000        US                 100         \n",
       "6 USD             120000        US                 100         \n",
       "  company_location company_size\n",
       "1 DE               L           \n",
       "2 US               L           \n",
       "3 RU               M           \n",
       "4 RU               L           \n",
       "5 US               S           \n",
       "6 US               M           "
      ]
     },
     "metadata": {},
     "output_type": "display_data"
    }
   ],
   "source": [
    "download.file(\"https://raw.githubusercontent.com/Wills-Hao/201-Project/main/Data_Science_Jobs_Salaries.csv\", destfile = \"Data_Science_Jobs_Salaries.csv\")\n",
    "\n",
    "DsSalary <- read_csv(\"Data_Science_Jobs_Salaries.csv\")\n",
    "head(DsSalary)"
   ]
  },
  {
   "cell_type": "markdown",
   "id": "5892bd04-19f4-4b97-9c74-e8cf6807177c",
   "metadata": {},
   "source": [
    "As the introduction mentioned, we are interested in the data-related workers working remotely or not (the remote ratio of 0 and 100). Since the remote ratio and the salary(USD) are the only columns we are interested in, we just select them for the cleaned data frame."
   ]
  },
  {
   "cell_type": "code",
   "execution_count": 4,
   "id": "c3af5c42-f73e-47fb-b357-8ffab0be051a",
   "metadata": {},
   "outputs": [
    {
     "data": {
      "text/html": [
       "<table class=\"dataframe\">\n",
       "<caption>A tibble: 6 × 2</caption>\n",
       "<thead>\n",
       "\t<tr><th scope=col>remote_ratio</th><th scope=col>salary_in_usd</th></tr>\n",
       "\t<tr><th scope=col>&lt;fct&gt;</th><th scope=col>&lt;dbl&gt;</th></tr>\n",
       "</thead>\n",
       "<tbody>\n",
       "\t<tr><td>100</td><td> 68428</td></tr>\n",
       "\t<tr><td>0  </td><td> 85000</td></tr>\n",
       "\t<tr><td>100</td><td>125000</td></tr>\n",
       "\t<tr><td>100</td><td>120000</td></tr>\n",
       "\t<tr><td>0  </td><td>450000</td></tr>\n",
       "\t<tr><td>100</td><td>144000</td></tr>\n",
       "</tbody>\n",
       "</table>\n"
      ],
      "text/latex": [
       "A tibble: 6 × 2\n",
       "\\begin{tabular}{ll}\n",
       " remote\\_ratio & salary\\_in\\_usd\\\\\n",
       " <fct> & <dbl>\\\\\n",
       "\\hline\n",
       "\t 100 &  68428\\\\\n",
       "\t 0   &  85000\\\\\n",
       "\t 100 & 125000\\\\\n",
       "\t 100 & 120000\\\\\n",
       "\t 0   & 450000\\\\\n",
       "\t 100 & 144000\\\\\n",
       "\\end{tabular}\n"
      ],
      "text/markdown": [
       "\n",
       "A tibble: 6 × 2\n",
       "\n",
       "| remote_ratio &lt;fct&gt; | salary_in_usd &lt;dbl&gt; |\n",
       "|---|---|\n",
       "| 100 |  68428 |\n",
       "| 0   |  85000 |\n",
       "| 100 | 125000 |\n",
       "| 100 | 120000 |\n",
       "| 0   | 450000 |\n",
       "| 100 | 144000 |\n",
       "\n"
      ],
      "text/plain": [
       "  remote_ratio salary_in_usd\n",
       "1 100           68428       \n",
       "2 0             85000       \n",
       "3 100          125000       \n",
       "4 100          120000       \n",
       "5 0            450000       \n",
       "6 100          144000       "
      ]
     },
     "metadata": {},
     "output_type": "display_data"
    }
   ],
   "source": [
    "clean_DsSalary <- DsSalary %>%\n",
    "                  filter(!is.na(salary_in_usd&remote_ratio),\n",
    "                         remote_ratio %in% c(0, 100)) %>%\n",
    "                  mutate(remote_ratio = as_factor(remote_ratio)) %>%\n",
    "                  select(remote_ratio, salary_in_usd)\n",
    "head(clean_DsSalary)"
   ]
  },
  {
   "cell_type": "markdown",
   "id": "5feddc80-43a6-464e-9620-85b17feb9a73",
   "metadata": {
    "tags": []
   },
   "source": [
    "## Estimation of the Parameter"
   ]
  },
  {
   "cell_type": "markdown",
   "id": "d909419b-020a-497b-be50-561e96c4e6ea",
   "metadata": {},
   "source": [
    "At first, we separately calculated the mean salaries of data-related workers who worked remotely (remote ratio > 80%) and the mean salaries of data-related workers who didn't work remotely (remote ratio < 20%). From the result below, we can see that the mean salary of remote workers has higher salaries. Then we find the difference between the two means is around 30145.229 USD, which can be seen as an estimation of the parameter."
   ]
  },
  {
   "cell_type": "code",
   "execution_count": 5,
   "id": "d93ab280-4bbd-4ee7-85b5-ae02485efbdc",
   "metadata": {},
   "outputs": [
    {
     "data": {
      "text/html": [
       "<table class=\"dataframe\">\n",
       "<caption>A tibble: 1 × 1</caption>\n",
       "<thead>\n",
       "\t<tr><th scope=col>mean_remote</th></tr>\n",
       "\t<tr><th scope=col>&lt;dbl&gt;</th></tr>\n",
       "</thead>\n",
       "<tbody>\n",
       "\t<tr><td>115107.7</td></tr>\n",
       "</tbody>\n",
       "</table>\n"
      ],
      "text/latex": [
       "A tibble: 1 × 1\n",
       "\\begin{tabular}{l}\n",
       " mean\\_remote\\\\\n",
       " <dbl>\\\\\n",
       "\\hline\n",
       "\t 115107.7\\\\\n",
       "\\end{tabular}\n"
      ],
      "text/markdown": [
       "\n",
       "A tibble: 1 × 1\n",
       "\n",
       "| mean_remote &lt;dbl&gt; |\n",
       "|---|\n",
       "| 115107.7 |\n",
       "\n"
      ],
      "text/plain": [
       "  mean_remote\n",
       "1 115107.7   "
      ]
     },
     "metadata": {},
     "output_type": "display_data"
    },
    {
     "data": {
      "text/html": [
       "<table class=\"dataframe\">\n",
       "<caption>A tibble: 1 × 1</caption>\n",
       "<thead>\n",
       "\t<tr><th scope=col>mean_office</th></tr>\n",
       "\t<tr><th scope=col>&lt;dbl&gt;</th></tr>\n",
       "</thead>\n",
       "<tbody>\n",
       "\t<tr><td>84962.45</td></tr>\n",
       "</tbody>\n",
       "</table>\n"
      ],
      "text/latex": [
       "A tibble: 1 × 1\n",
       "\\begin{tabular}{l}\n",
       " mean\\_office\\\\\n",
       " <dbl>\\\\\n",
       "\\hline\n",
       "\t 84962.45\\\\\n",
       "\\end{tabular}\n"
      ],
      "text/markdown": [
       "\n",
       "A tibble: 1 × 1\n",
       "\n",
       "| mean_office &lt;dbl&gt; |\n",
       "|---|\n",
       "| 84962.45 |\n",
       "\n"
      ],
      "text/plain": [
       "  mean_office\n",
       "1 84962.45   "
      ]
     },
     "metadata": {},
     "output_type": "display_data"
    }
   ],
   "source": [
    "remote_df <- clean_DsSalary %>%\n",
    "                  filter(remote_ratio == 100) %>%\n",
    "                  select(salary_in_usd)\n",
    " \n",
    "remote_mean <- remote_df %>%\n",
    "                summarise(mean_remote = mean(salary_in_usd))\n",
    "remote_mean\n",
    "\n",
    "no_remote_df <- clean_DsSalary %>%\n",
    "                filter(remote_ratio == 0) %>%\n",
    "                select(salary_in_usd)\n",
    "\n",
    "no_remote_mean <- no_remote_df %>%\n",
    "                 summarise(mean_office = mean(salary_in_usd))\n",
    "no_remote_mean"
   ]
  },
  {
   "cell_type": "code",
   "execution_count": 6,
   "id": "0cd9abf4-4d3f-4154-a976-58671b4cdb2a",
   "metadata": {},
   "outputs": [
    {
     "data": {
      "text/html": [
       "30145.2291044776"
      ],
      "text/latex": [
       "30145.2291044776"
      ],
      "text/markdown": [
       "30145.2291044776"
      ],
      "text/plain": [
       "[1] 30145.23"
      ]
     },
     "metadata": {},
     "output_type": "display_data"
    }
   ],
   "source": [
    "estimation_diff_mean <- pull(remote_mean) - pull(no_remote_mean)\n",
    "estimation_diff_mean\n",
    "options(\"scipen\"=-100, \"digits\"=4)"
   ]
  },
  {
   "cell_type": "markdown",
   "id": "685e4b3b-2f6d-41e2-8d8d-5ac3507e237e",
   "metadata": {},
   "source": [
    "## Visualizing the Data"
   ]
  },
  {
   "cell_type": "markdown",
   "id": "e4d3309c-0c9f-48a0-9233-e139c93fd051",
   "metadata": {},
   "source": [
    "Firstly, we will plot the raw data distribution of two data frames(the remote working one and the no remote working one) with the vertical lines of their mean value. By comparing them, we can see that the mean salary of remote workers has a higher value of salary."
   ]
  },
  {
   "cell_type": "code",
   "execution_count": 12,
   "id": "88a613b8-527f-4e92-9660-b941ec4e2a4a",
   "metadata": {},
   "outputs": [
    {
     "name": "stderr",
     "output_type": "stream",
     "text": [
      "Warning message:\n",
      "“Removed 2 rows containing missing values (geom_bar).”\n"
     ]
    },
    {
     "ename": "ERROR",
     "evalue": "Error in valid.charjust(just): invalid horizontal justification\n",
     "output_type": "error",
     "traceback": [
      "Error in valid.charjust(just): invalid horizontal justification\nTraceback:\n",
      "1. plot_grid(remote_distribution + scale_x_continuous(limits = c(0e+00, \n .     6.5e+05)), no_remote_distribution + scale_x_continuous(limits = c(0e+00, \n .     6.5e+05)), nrow = 2e+00)",
      "2. align_plots(plotlist = plots, align = align, axis = axis, greedy = greedy)",
      "3. lapply(plots, function(x) {\n .     if (!is.null(x)) \n .         as_gtable(x)\n .     else NULL\n . })",
      "4. FUN(X[[i]], ...)",
      "5. as_gtable(x)",
      "6. as_gtable.default(x)",
      "7. as_grob(plot)",
      "8. as_grob.ggplot(plot)",
      "9. ggplot2::ggplotGrob(plot)",
      "10. ggplot_gtable(ggplot_build(x))",
      "11. ggplot_gtable.ggplot_built(ggplot_build(x))",
      "12. Map(function(l, d) l$draw_geom(d, layout), plot$layers, data)",
      "13. mapply(FUN = f, ..., SIMPLIFY = FALSE)",
      "14. (function (l, d) \n  . l$draw_geom(d, layout))(dots[[1L]][[1L]], dots[[2L]][[1L]])",
      "15. l$draw_geom(d, layout)",
      "16. f(..., self = self)",
      "17. self$geom$draw_layer(data, self$computed_geom_params, layout, \n  .     layout$coord)",
      "18. f(..., self = self)",
      "19. lapply(split(data, data$PANEL), function(data) {\n  .     if (empty(data)) \n  .         return(zeroGrob())\n  .     panel_params <- layout$panel_params[[data$PANEL[1e+00]]]\n  .     do.call(self$draw_panel, args)\n  . })",
      "20. FUN(X[[i]], ...)",
      "21. do.call(self$draw_panel, args)",
      "22. (structure(function (...) \n  . f(..., self = self), class = \"ggproto_method\"))(data, panel_params, \n  .     coord, flipped_aes = FALSE)",
      "23. f(..., self = self)",
      "24. ggproto_parent(GeomRect, self)$draw_panel(data, panel_params, \n  .     coord)",
      "25. f(..., self = self)",
      "26. ggname(\"geom_rect\", rectGrob(coords$xmin, coords$ymax, width = coords$xmax - \n  .     coords$xmin, height = coords$ymax - coords$ymin, default.units = \"native\", \n  .     just = c(\"left\", \"top\"), gp = gpar(col = coords$colour, fill = alpha(coords$fill, \n  .         coords$alpha), lwd = coords$size * .pt, lty = coords$linetype, \n  .         linejoin = linejoin, lineend = if (identical(linejoin, \n  .             \"round\")) \"round\" else \"square\")))",
      "27. grobName(grob, prefix)",
      "28. rectGrob(coords$xmin, coords$ymax, width = coords$xmax - coords$xmin, \n  .     height = coords$ymax - coords$ymin, default.units = \"native\", \n  .     just = c(\"left\", \"top\"), gp = gpar(col = coords$colour, fill = alpha(coords$fill, \n  .         coords$alpha), lwd = coords$size * .pt, lty = coords$linetype, \n  .         linejoin = linejoin, lineend = if (identical(linejoin, \n  .             \"round\")) \"round\" else \"square\"))",
      "29. grob(x = x, y = y, width = width, height = height, just = just, \n  .     hjust = hjust, vjust = vjust, name = name, gp = gp, vp = vp, \n  .     cl = \"rect\")",
      "30. validGrob(g)",
      "31. validGrob.grob(g)",
      "32. validDetails(x)",
      "33. validDetails.rect(x)",
      "34. valid.just(x$just)",
      "35. valid.charjust(just)",
      "36. stop(\"invalid horizontal justification\")"
     ]
    }
   ],
   "source": [
    "remote_distribution <- remote_df %>%\n",
    "                          ggplot(aes(x=salary_in_usd)) +\n",
    "                          geom_histogram(bins=80, color=\"darkblue\", fill=\"lightblue\") +\n",
    "                          geom_vline(aes(xintercept = pull(remote_mean)), color=\"red\", linetype=\"dashed\", size = 1)+\n",
    "                          ggtitle(\"Sample distribution of the salaries(USD) of data related jobs worked remotely (remote ratio > 80%)\")+\n",
    "                          labs(x=\"Salaries (in USD)\",\n",
    "                               y=\"People\")+\n",
    "                          theme(text = element_text(size=20)) \n",
    "\n",
    "no_remote_distribution <- no_remote_df %>%\n",
    "                          ggplot(aes(x=salary_in_usd)) +\n",
    "                          geom_histogram(bins=80, color=\"darkblue\", fill=\"lightblue\") +\n",
    "                          geom_vline(aes(xintercept = pull(no_remote_mean)), color=\"red\", linetype=\"dashed\", size = 1)+\n",
    "                          ggtitle(\"Sample distribution of the salaries(USD) of data related jobs worked in office (remote ratio < 20%)\")+\n",
    "                          labs(x=\"Salaries (in USD)\",\n",
    "                               y=\"People\")+\n",
    "                          theme(text = element_text(size=20))\n",
    "\n",
    "options(repr.plot.width = 16, repr.plot.height = 14)\n",
    "\n",
    "mean_plot_row <- plot_grid(remote_distribution+\n",
    "                           scale_x_continuous(limits = c(0, 6.5e+05)),\n",
    "                           no_remote_distribution+\n",
    "                           scale_x_continuous(limits = c(0, 6.5e+05)),\n",
    "                           nrow = 2)\n",
    "mean_plot_row"
   ]
  },
  {
   "cell_type": "code",
   "execution_count": null,
   "id": "7645809b-83b1-419c-855c-2e8e8c53c494",
   "metadata": {},
   "outputs": [],
   "source": [
    "\n",
    "remote_density <- remote_df %>%\n",
    "                          ggplot(aes(x=salary_in_usd)) +\n",
    "                          geom_histogram(aes(y=..density..), bins=80, color=\"darkblue\", fill=\"lightblue\") +\n",
    "                          geom_density(alpha=.2, fill=\"#FF6666\")+\n",
    "                          labs(x = \"Salaries (in USD)\",\n",
    "                               y = \"Density\")+\n",
    "                          ggtitle(\"Density plot of working remotely (remote ratio > 80%)\")+\n",
    "                          theme(text = element_text(size=20))\n",
    "no_remote_density <- no_remote_df %>%\n",
    "                          ggplot(aes(x=salary_in_usd)) +\n",
    "                          geom_histogram(aes(y=..density..), bins=80, color=\"darkblue\", fill=\"lightblue\") +\n",
    "                          geom_density(alpha=.2, fill=\"#FF6666\")+\n",
    "                          labs(x = \"Salaries (in USD)\",\n",
    "                               y = \"Density\")+\n",
    "                          ggtitle(\"Density plot of working in office (remote ratio < 20%)\")+\n",
    "                          theme(text = element_text(size=20))\n",
    "\n",
    "options(repr.plot.width = 20, repr.plot.height = 8)\n",
    "\n",
    "density_plot <- plot_grid(remote_density+\n",
    "                           scale_x_continuous(limits = c(0, 6.5e+05)),\n",
    "                           no_remote_density+\n",
    "                           scale_x_continuous(limits = c(0, 6.5e+05)),\n",
    "                           ncol = 2)\n",
    "density_plot"
   ]
  },
  {
   "cell_type": "markdown",
   "id": "478a876d-9dc7-42d7-979c-e8e4a9543cd2",
   "metadata": {},
   "source": [
    "From the density plots, we can see both of them are skewed to the right."
   ]
  },
  {
   "cell_type": "markdown",
   "id": "2b013775-70b0-45d7-9919-8df010322623",
   "metadata": {},
   "source": [
    "# Hopothesis Testing"
   ]
  },
  {
   "cell_type": "markdown",
   "id": "f492ba87-e06d-487b-80d6-df7b7591e4d4",
   "metadata": {},
   "source": [
    "For this section, we will use hypothesis testing to determine whether there is enough statistical evidence in favor of the statement that the mean salary for data scientists who work remotely is different from the mean salary for data scientists who does not work remotely. For this project, we set the 0.95 `confidence level`, which means a 0.05 significance level.\n",
    "\n",
    "The null hypothesis ($H_0$): There is `no difference` between the mean salary for data scientists who work remotely and the mean salary for data scientists who does not work remotely.\n",
    "\n",
    "The alternative hypothesis ($H_A$): There is `a difference` between the mean salary for data scientists who work remotely and the mean salary for data scientists who does not work remotely.\n",
    "\n",
    "\n",
    "$\\mu_1$: The population mean of salary for data scientists who `work remotely`\n",
    "\n",
    "$\\mu_2$: The population mean of salary for data scientists who does not `work remotely`\n",
    "\n",
    "$H_0: \\mu_1 - \\mu_2 = 0$\n",
    "\n",
    "$H_A: \\mu_1 - \\mu_2 \\neq 0$"
   ]
  },
  {
   "cell_type": "markdown",
   "id": "4f217ade-a22d-4866-8914-79e011dd332c",
   "metadata": {},
   "source": [
    "### Bootstrapping method"
   ]
  },
  {
   "cell_type": "markdown",
   "id": "90f3752f-93ab-4b4a-9216-4278c9a33bfe",
   "metadata": {},
   "source": [
    "First, we will review the `observed test statistic` (the difference between the mean salary for data scientists who work remotely and the mean salary for data scientists who does not work remotely from the dataset) calculated in the preliminary results section. Then, we will use the `infer` package to obtain the bootstrapped sampling distribution to estimate the sampling distribution, so that we can use it to find out the `p-value` (the probability of getting a value more \"extreme\" than the observed test statistic). Also, we will construct a `confidence interval` based of the confidence level on the bootstrap distribution. Based on the p-value and the confidence interval, we can reject or not reject the null hypothesis $H_0$. "
   ]
  },
  {
   "cell_type": "code",
   "execution_count": 8,
   "id": "3cd4f6c8-3d86-4189-95da-9dd212b4b53b",
   "metadata": {},
   "outputs": [
    {
     "name": "stdout",
     "output_type": "stream",
     "text": [
      "The value of the observed test statistic is 3.015e+04"
     ]
    }
   ],
   "source": [
    "# Review of the obeserved test statistic\n",
    "cat(\"The value of the observed test statistic is\", estimation_diff_mean)"
   ]
  },
  {
   "cell_type": "markdown",
   "id": "6101b794-4e0e-4a2c-ba7a-49889b0622cd",
   "metadata": {
    "tags": []
   },
   "source": [
    "#### Find the null distribution and the p-value "
   ]
  },
  {
   "cell_type": "code",
   "execution_count": 9,
   "id": "9bb3ba88-f6b2-4432-b146-b80231c5c960",
   "metadata": {},
   "outputs": [
    {
     "ename": "ERROR",
     "evalue": "Error: 1e+02 is not a level of the explanatory variable.\n",
     "output_type": "error",
     "traceback": [
      "Error: 1e+02 is not a level of the explanatory variable.\nTraceback:\n",
      "1. clean_DsSalary %>% specify(formula = salary_in_usd ~ remote_ratio) %>% \n .     hypothesize(null = \"independence\") %>% generate(reps = 1e+03, \n .     type = \"permute\") %>% calculate(stat = \"diff in means\", order = c(1e+02, \n .     0e+00))",
      "2. calculate(., stat = \"diff in means\", order = c(1e+02, 0e+00))",
      "3. check_order(x, explanatory_variable(x), order)",
      "4. stop_glue(\"{order[1]} is not a level of the explanatory variable.\")",
      "5. stop(glue_null(..., .sep = .sep, .envir = .envir), call. = call., \n .     domain = .domain)"
     ]
    }
   ],
   "source": [
    "# Using the infer package, to obtain the bootstrapped sampling distribution of test statistic \n",
    "# by 1000 replications\n",
    "set.seed(111)\n",
    "\n",
    "sampling_dist_mean_salary <-  \n",
    "   clean_DsSalary %>%\n",
    "   specify(formula = salary_in_usd ~ remote_ratio) %>% \n",
    "   hypothesize(null = \"independence\") %>% \n",
    "   generate(reps = 1000, type = \"permute\") %>% \n",
    "   calculate(stat=\"diff in means\", order = c(100, 0))\n",
    "\n",
    "head(sampling_dist_mean_salary)"
   ]
  },
  {
   "cell_type": "markdown",
   "id": "21a60d88-979b-46e7-bdd0-3c376c5b4876",
   "metadata": {},
   "source": [
    "Since the alternative hypothesis is $\\mu_1 - \\mu_2 \\neq 0$, we will find the p-value by the two sided direction (region shaded in red below). "
   ]
  },
  {
   "cell_type": "code",
   "execution_count": null,
   "id": "545d1f05-3182-4609-a3d5-6359b3f3c153",
   "metadata": {},
   "outputs": [],
   "source": [
    "# Plot the result of the hypothesis test with the vertical line of the test statistic's position\n",
    "\n",
    "options(repr.plot.width = 8, repr.plot.height = 6)\n",
    "result_plot_students <- \n",
    "   sampling_dist_mean_salary %>%\n",
    "   visualize() + \n",
    "   shade_p_value(obs_stat = estimation_diff_mean, direction = \"two-sided\") +\n",
    "   ggtitle(\"Null distribution\")+\n",
    "   labs(x = \"Difference of Means (in USD)\")+\n",
    "   theme(text = element_text(size = 20))\n",
    "\n",
    "result_plot_students"
   ]
  },
  {
   "cell_type": "code",
   "execution_count": null,
   "id": "38c368ea-e846-47e5-8543-3388b4e06d61",
   "metadata": {},
   "outputs": [],
   "source": [
    "# Obtaining the p-value\n",
    "\n",
    "p_value_mean_salary <- \n",
    "    sampling_dist_mean_salary %>% \n",
    "    get_p_value(obs_stat = estimation_diff_mean, direction = \"two-sided\") %>%\n",
    "    pull()\n",
    "\n",
    "cat(\"The P-value is\", p_value_mean_salary)"
   ]
  },
  {
   "cell_type": "markdown",
   "id": "0e62057e-dd0c-4810-bfd4-9a94b803103d",
   "metadata": {},
   "source": [
    "#### Find the bootstrap distribution and the 95% confidence interval"
   ]
  },
  {
   "cell_type": "code",
   "execution_count": 10,
   "id": "2b8b0d8c-011b-4655-8ea6-b1c56fc51086",
   "metadata": {},
   "outputs": [
    {
     "ename": "ERROR",
     "evalue": "Error: 1e+02 is not a level of the explanatory variable.\n",
     "output_type": "error",
     "traceback": [
      "Error: 1e+02 is not a level of the explanatory variable.\nTraceback:\n",
      "1. clean_DsSalary %>% specify(formula = salary_in_usd ~ remote_ratio) %>% \n .     generate(reps = 1e+03, type = \"bootstrap\") %>% calculate(stat = \"diff in means\", \n .     order = c(1e+02, 0e+00))",
      "2. calculate(., stat = \"diff in means\", order = c(1e+02, 0e+00))",
      "3. check_order(x, explanatory_variable(x), order)",
      "4. stop_glue(\"{order[1]} is not a level of the explanatory variable.\")",
      "5. stop(glue_null(..., .sep = .sep, .envir = .envir), call. = call., \n .     domain = .domain)"
     ]
    }
   ],
   "source": [
    "# Using the infer package, to obtain the bootstrap distribution of test statistic by 1000 replications\n",
    "set.seed(222)\n",
    "\n",
    "bootstrap_dist_diff_in_mean <-  \n",
    "   clean_DsSalary %>%\n",
    "   specify(formula = salary_in_usd ~ remote_ratio) %>% \n",
    "   generate(reps = 1000, type = \"bootstrap\") %>% \n",
    "   calculate(stat=\"diff in means\", order = c(100, 0))\n",
    "\n",
    "# Obtain the 95% confidence interval\n",
    "diff_in_means_ci <- bootstrap_dist_diff_in_mean %>%\n",
    "                    get_confidence_interval(level = 0.95, type = \"percentile\") \n",
    "\n",
    "diff_in_means_ci"
   ]
  },
  {
   "cell_type": "code",
   "execution_count": 11,
   "id": "3c53c6db-41ae-4c30-a432-24c2f133909e",
   "metadata": {},
   "outputs": [
    {
     "ename": "ERROR",
     "evalue": "Error in check_for_nan(data, \"visualize\"): object 'bootstrap_dist_diff_in_mean' not found\n",
     "output_type": "error",
     "traceback": [
      "Error in check_for_nan(data, \"visualize\"): object 'bootstrap_dist_diff_in_mean' not found\nTraceback:\n",
      "1. bootstrap_dist_diff_in_mean %>% visualize(bins = 1e+01)",
      "2. visualize(., bins = 1e+01)",
      "3. check_for_nan(data, \"visualize\")"
     ]
    }
   ],
   "source": [
    "# The Plot of the confidence interval in bootstrap distribution with a vertical line \n",
    "# of the value of H_0 (null value)\n",
    "\n",
    "options(repr.plot.width = 8, repr.plot.height = 6)\n",
    "diff_in_means_ci_plot <- bootstrap_dist_diff_in_mean %>%\n",
    "                        visualize(bins = 10) +\n",
    "                        shade_confidence_interval(endpoints = diff_in_means_ci) +\n",
    "                        xlab(\"Difference of Means (in USD)\")+\n",
    "                        ggtitle(\"Bootstrap Distribution\") +\n",
    "                    geom_vline(xintercept = 0, color = \"red\", alpha=.3, lwd=2)+\n",
    "                    annotate(\"text\", x = -15000, \n",
    "                             y =300, label = \"The Null value 0 is on \\n the left side of the lower CI\", \n",
    "                             color=\"red\", size=4.8)+\n",
    "                    theme(text = element_text(size = 20))\n",
    "    \n",
    "diff_in_means_ci_plot"
   ]
  },
  {
   "cell_type": "markdown",
   "id": "19446aa3-86c3-4fb2-9ba4-48142a54ed18",
   "metadata": {},
   "source": [
    "#### Result of the bootstrap method:"
   ]
  },
  {
   "cell_type": "markdown",
   "id": "82f2b1e8-2561-40b5-a674-daa54054ce1d",
   "metadata": {},
   "source": [
    "Two methods are used to determine whether reject the null hypothesis (no difference), one is by comparing the p-value and the significance level, and another is by determining whether the confidence interval embraced the value of the null hypothesis which is 0 (null value). \n",
    "\n",
    "First of all, the `p-value` of 0.04 which is smaller than the `significant level` of 0.05 is statistically significant. It shows strong evidence against the null hypothesis because the probability of the null hypothesis being correct is less than 5%. Therefore, we reject the null hypothesis and accept the alternative hypothesis.\n",
    "\n",
    "Secondly, the `null value` of the difference between two groups' mean salary is 0, which is not contained in the `confidence interval` (515.3215, 57918.65). It indicates that the null value 0 is not a reasonable value for the true difference in mean salaries between the two groups. Thus, we reject the null hypothesis and accept the alternative hypothesis.\n",
    "\n",
    "In summary, there is a difference between the mean of salary for data scientists who work remotely and the mean of salary for data scientists who does not work remotely. "
   ]
  },
  {
   "cell_type": "code",
   "execution_count": null,
   "id": "d6850ac6-7712-4c2d-9667-aeea7421488b",
   "metadata": {},
   "outputs": [],
   "source": []
  },
  {
   "cell_type": "markdown",
   "id": "49f8153e-137c-4075-81db-c0a2f2b52c2f",
   "metadata": {},
   "source": [
    "## Expected outcomes and significance"
   ]
  },
  {
   "cell_type": "markdown",
   "id": "5fc713e2-0887-467a-a6dc-85e8ae3c0b8f",
   "metadata": {},
   "source": [
    "In this project, we are expecting to find the salary difference between people who work within the office and people who work remotely, although this will vary with many other factors which we examine in this project. Due to COVID, a lot of companies will allow the employee to choose to work in the office or work remotely. However, our findings on the salary difference might impact people’s decisions regarding their working mode. Future analyses this could lead to include finding what other factors will affect a greater salary. Future analyses could even build off of our project by constructing a model of the salary difference for people who work hybrid vs people who work in the office. Of course, this cannot be done with our model as there we only filter the people with a 100% remote ratio and people who work with a 0% remote ratio.\n"
   ]
  },
  {
   "cell_type": "markdown",
   "id": "7d46f265-0e09-45c5-98e0-051c71b1cf61",
   "metadata": {},
   "source": [
    "## Reference"
   ]
  },
  {
   "cell_type": "markdown",
   "id": "36c228ff-72e6-4534-abba-12bc24f37fd5",
   "metadata": {},
   "source": [
    "Bao, L., Li, T., Xia, X. et al. How does working from home affect developer productivity? — A case study of Baidu during the COVID-19 pandemic. Sci. China Inf. Sci. (2022). https://doi.org/10.1007/s11432-020-3278-4\n",
    "\n",
    "Mehdi, T. Morissette, R. Working from home: Productivity and preference. Statistics Canada. (2021).\n",
    "https://publications.gc.ca/collections/collection_2021/statcan/45-28/CS45-28-1-2021-12-eng.pdf\n"
   ]
  }
 ],
 "metadata": {
  "kernelspec": {
   "display_name": "R",
   "language": "R",
   "name": "ir"
  },
  "language_info": {
   "codemirror_mode": "r",
   "file_extension": ".r",
   "mimetype": "text/x-r-source",
   "name": "R",
   "pygments_lexer": "r",
   "version": "4.0.5"
  }
 },
 "nbformat": 4,
 "nbformat_minor": 5
}
