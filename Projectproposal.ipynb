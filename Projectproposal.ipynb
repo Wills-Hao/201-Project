{
 "cells": [
  {
   "cell_type": "markdown",
   "id": "f52ea8d8",
   "metadata": {},
   "source": [
    "# Project Report"
   ]
  },
  {
   "cell_type": "markdown",
   "id": "78ab625e",
   "metadata": {},
   "source": [
    "Group Number: 4\n",
    "\n",
    "Group Members: Jezarah Ebel, Amar Gill, Yoson Hsu, Hao Jiang, Kaiji Lo"
   ]
  },
  {
   "cell_type": "markdown",
   "id": "33243575",
   "metadata": {},
   "source": [
    "Data Set: Data Science Jobs Salaries"
   ]
  },
  {
   "cell_type": "code",
   "execution_count": 1,
   "id": "820e73b0",
   "metadata": {},
   "outputs": [
    {
     "name": "stderr",
     "output_type": "stream",
     "text": [
      "\n",
      "Attaching package: ‘dplyr’\n",
      "\n",
      "\n",
      "The following objects are masked from ‘package:stats’:\n",
      "\n",
      "    filter, lag\n",
      "\n",
      "\n",
      "The following objects are masked from ‘package:base’:\n",
      "\n",
      "    intersect, setdiff, setequal, union\n",
      "\n",
      "\n",
      "\n",
      "Attaching package: ‘gridExtra’\n",
      "\n",
      "\n",
      "The following object is masked from ‘package:dplyr’:\n",
      "\n",
      "    combine\n",
      "\n",
      "\n",
      "── \u001b[1mAttaching packages\u001b[22m ─────────────────────────────────────── tidyverse 1.3.0 ──\n",
      "\n",
      "\u001b[32m✔\u001b[39m \u001b[34mggplot2\u001b[39m 3.3.6     \u001b[32m✔\u001b[39m \u001b[34mpurrr  \u001b[39m 0.3.4\n",
      "\u001b[32m✔\u001b[39m \u001b[34mtibble \u001b[39m 3.1.7     \u001b[32m✔\u001b[39m \u001b[34mstringr\u001b[39m 1.4.0\n",
      "\u001b[32m✔\u001b[39m \u001b[34mtidyr  \u001b[39m 1.2.0     \u001b[32m✔\u001b[39m \u001b[34mforcats\u001b[39m 0.5.1\n",
      "\u001b[32m✔\u001b[39m \u001b[34mreadr  \u001b[39m 2.1.2     \n",
      "\n",
      "── \u001b[1mConflicts\u001b[22m ────────────────────────────────────────── tidyverse_conflicts() ──\n",
      "\u001b[31m✖\u001b[39m \u001b[34mgridExtra\u001b[39m::\u001b[32mcombine()\u001b[39m masks \u001b[34mdplyr\u001b[39m::combine()\n",
      "\u001b[31m✖\u001b[39m \u001b[34mdplyr\u001b[39m::\u001b[32mfilter()\u001b[39m      masks \u001b[34mstats\u001b[39m::filter()\n",
      "\u001b[31m✖\u001b[39m \u001b[34mdplyr\u001b[39m::\u001b[32mlag()\u001b[39m         masks \u001b[34mstats\u001b[39m::lag()\n",
      "\n"
     ]
    }
   ],
   "source": [
    "#required libraries\n",
    "library(cowplot)\n",
    "library(dplyr)\n",
    "library(gridExtra)\n",
    "library(tidyverse)\n",
    "library(repr)\n",
    "library(infer)\n",
    "library(broom)"
   ]
  },
  {
   "cell_type": "markdown",
   "id": "ee49adb0",
   "metadata": {},
   "source": [
    "## 1 Introduction"
   ]
  },
  {
   "cell_type": "markdown",
   "id": "5742df54",
   "metadata": {},
   "source": [
    "During COVID-19 the work from home (WFH) model was adopted by many companies to keep employees safe from the virus; 32% of Canadian employees in 2021 worked from home compared to 4% in 2016 (Mehdi). In general, it has been proven that employee’s productivity is not affected if their personal work environment at home provides good privacy, noise, and allows developers to work with less fragmentation or interruptions (Bao). \n",
    "\n",
    "Should an employee expect their salary to change based on where they work (from home or at the office)?\n",
    "\n",
    "To explore this question, the dataset that we will be using, Data Science Jobs Salaries Dataset (Shahane), includes salary data for employees in the data science industry such as the work year, experience level, employment type, the job title, salary, employee residence, the ratio of remote work, location of company, and size of company. The data set is taken from workers during the years 2020 and 2021. The data source is from ai-jobs.net. To answer our questions, we will be looking at the salary in USD and the ratio of remote work (0% remote vs. 100% remote). \n",
    "\n",
    "To test the hypothesis that there is a statistically significant difference in mean salary between workers who work remotely vs those who work in office, we will apply both bootstrapping as well as mathematical approximation methods to test our hypotheses. "
   ]
  },
  {
   "cell_type": "markdown",
   "id": "ba5d70a1",
   "metadata": {},
   "source": [
    "## 2 Preliminary Results"
   ]
  },
  {
   "cell_type": "markdown",
   "id": "dbf13294",
   "metadata": {},
   "source": [
    "### Cleaning and Wrangling of Data"
   ]
  },
  {
   "cell_type": "code",
   "execution_count": 22,
   "id": "9989ed3f",
   "metadata": {},
   "outputs": [
    {
     "name": "stderr",
     "output_type": "stream",
     "text": [
      "\u001b[1mRows: \u001b[22m\u001b[34me+01m245e+01m\u001b[39m \u001b[1mColumns: \u001b[22m\u001b[34me+01m11e+01m\u001b[39m\n",
      "e+01m──e+01m \u001b[1mColumn specification\u001b[22m e+01m─────────────────────────────────────────\n",
      "\u001b[1mDelimiter:\u001b[22m \",\"\n",
      "\u001b[31mchr\u001b[39m (7): experience_level, employment_type, job_title, salary_currency, empl...\n",
      "\u001b[32mdbl\u001b[39m (4): work_year, salary, salary_in_usd, remote_ratio\n",
      "\n",
      "\u001b[36mℹ\u001b[39m Use `spec()` to retrieve the full column specification for this data.\n",
      "\u001b[36mℹ\u001b[39m Specify the column types or set `show_col_types = FALSE` to quiet this message.\n"
     ]
    },
    {
     "data": {
      "text/html": [
       "<table class=\"dataframe\">\n",
       "<caption>A tibble: 6 × 11</caption>\n",
       "<thead>\n",
       "\t<tr><th scope=col>work_year</th><th scope=col>experience_level</th><th scope=col>employment_type</th><th scope=col>job_title</th><th scope=col>salary</th><th scope=col>salary_currency</th><th scope=col>salary_in_usd</th><th scope=col>employee_residence</th><th scope=col>remote_ratio</th><th scope=col>company_location</th><th scope=col>company_size</th></tr>\n",
       "\t<tr><th scope=col>&lt;dbl&gt;</th><th scope=col>&lt;chr&gt;</th><th scope=col>&lt;chr&gt;</th><th scope=col>&lt;chr&gt;</th><th scope=col>&lt;dbl&gt;</th><th scope=col>&lt;chr&gt;</th><th scope=col>&lt;dbl&gt;</th><th scope=col>&lt;chr&gt;</th><th scope=col>&lt;dbl&gt;</th><th scope=col>&lt;chr&gt;</th><th scope=col>&lt;chr&gt;</th></tr>\n",
       "</thead>\n",
       "<tbody>\n",
       "\t<tr><td>2.021e+03</td><td>EN</td><td>FT</td><td>Data Science Consultant  </td><td>5.40e+04</td><td>EUR</td><td>6.437e+04</td><td>DE</td><td>5e+01</td><td>DE</td><td>L</td></tr>\n",
       "\t<tr><td>2.020e+03</td><td>SE</td><td>FT</td><td>Data Scientist           </td><td>6.00e+04</td><td>EUR</td><td>6.843e+04</td><td>GR</td><td>1e+02</td><td>US</td><td>L</td></tr>\n",
       "\t<tr><td>2.021e+03</td><td>EX</td><td>FT</td><td>Head of Data Science     </td><td>8.50e+04</td><td>USD</td><td>8.500e+04</td><td>RU</td><td>0e+00</td><td>RU</td><td>M</td></tr>\n",
       "\t<tr><td>2.021e+03</td><td>EX</td><td>FT</td><td>Head of Data             </td><td>2.30e+05</td><td>USD</td><td>2.300e+05</td><td>RU</td><td>5e+01</td><td>RU</td><td>L</td></tr>\n",
       "\t<tr><td>2.021e+03</td><td>EN</td><td>FT</td><td>Machine Learning Engineer</td><td>1.25e+05</td><td>USD</td><td>1.250e+05</td><td>US</td><td>1e+02</td><td>US</td><td>S</td></tr>\n",
       "\t<tr><td>2.021e+03</td><td>SE</td><td>FT</td><td>Data Analytics Manager   </td><td>1.20e+05</td><td>USD</td><td>1.200e+05</td><td>US</td><td>1e+02</td><td>US</td><td>M</td></tr>\n",
       "</tbody>\n",
       "</table>\n"
      ],
      "text/latex": [
       "A tibble: 6 × 11\n",
       "\\begin{tabular}{lllllllllll}\n",
       " work\\_year & experience\\_level & employment\\_type & job\\_title & salary & salary\\_currency & salary\\_in\\_usd & employee\\_residence & remote\\_ratio & company\\_location & company\\_size\\\\\n",
       " <dbl> & <chr> & <chr> & <chr> & <dbl> & <chr> & <dbl> & <chr> & <dbl> & <chr> & <chr>\\\\\n",
       "\\hline\n",
       "\t 2.021e+03 & EN & FT & Data Science Consultant   & 5.40e+04 & EUR & 6.437e+04 & DE & 5e+01 & DE & L\\\\\n",
       "\t 2.020e+03 & SE & FT & Data Scientist            & 6.00e+04 & EUR & 6.843e+04 & GR & 1e+02 & US & L\\\\\n",
       "\t 2.021e+03 & EX & FT & Head of Data Science      & 8.50e+04 & USD & 8.500e+04 & RU & 0e+00 & RU & M\\\\\n",
       "\t 2.021e+03 & EX & FT & Head of Data              & 2.30e+05 & USD & 2.300e+05 & RU & 5e+01 & RU & L\\\\\n",
       "\t 2.021e+03 & EN & FT & Machine Learning Engineer & 1.25e+05 & USD & 1.250e+05 & US & 1e+02 & US & S\\\\\n",
       "\t 2.021e+03 & SE & FT & Data Analytics Manager    & 1.20e+05 & USD & 1.200e+05 & US & 1e+02 & US & M\\\\\n",
       "\\end{tabular}\n"
      ],
      "text/markdown": [
       "\n",
       "A tibble: 6 × 11\n",
       "\n",
       "| work_year &lt;dbl&gt; | experience_level &lt;chr&gt; | employment_type &lt;chr&gt; | job_title &lt;chr&gt; | salary &lt;dbl&gt; | salary_currency &lt;chr&gt; | salary_in_usd &lt;dbl&gt; | employee_residence &lt;chr&gt; | remote_ratio &lt;dbl&gt; | company_location &lt;chr&gt; | company_size &lt;chr&gt; |\n",
       "|---|---|---|---|---|---|---|---|---|---|---|\n",
       "| 2.021e+03 | EN | FT | Data Science Consultant   | 5.40e+04 | EUR | 6.437e+04 | DE | 5e+01 | DE | L |\n",
       "| 2.020e+03 | SE | FT | Data Scientist            | 6.00e+04 | EUR | 6.843e+04 | GR | 1e+02 | US | L |\n",
       "| 2.021e+03 | EX | FT | Head of Data Science      | 8.50e+04 | USD | 8.500e+04 | RU | 0e+00 | RU | M |\n",
       "| 2.021e+03 | EX | FT | Head of Data              | 2.30e+05 | USD | 2.300e+05 | RU | 5e+01 | RU | L |\n",
       "| 2.021e+03 | EN | FT | Machine Learning Engineer | 1.25e+05 | USD | 1.250e+05 | US | 1e+02 | US | S |\n",
       "| 2.021e+03 | SE | FT | Data Analytics Manager    | 1.20e+05 | USD | 1.200e+05 | US | 1e+02 | US | M |\n",
       "\n"
      ],
      "text/plain": [
       "  work_year experience_level employment_type job_title                 salary  \n",
       "1 2.021e+03 EN               FT              Data Science Consultant   5.40e+04\n",
       "2 2.020e+03 SE               FT              Data Scientist            6.00e+04\n",
       "3 2.021e+03 EX               FT              Head of Data Science      8.50e+04\n",
       "4 2.021e+03 EX               FT              Head of Data              2.30e+05\n",
       "5 2.021e+03 EN               FT              Machine Learning Engineer 1.25e+05\n",
       "6 2.021e+03 SE               FT              Data Analytics Manager    1.20e+05\n",
       "  salary_currency salary_in_usd employee_residence remote_ratio\n",
       "1 EUR             6.437e+04     DE                 5e+01       \n",
       "2 EUR             6.843e+04     GR                 1e+02       \n",
       "3 USD             8.500e+04     RU                 0e+00       \n",
       "4 USD             2.300e+05     RU                 5e+01       \n",
       "5 USD             1.250e+05     US                 1e+02       \n",
       "6 USD             1.200e+05     US                 1e+02       \n",
       "  company_location company_size\n",
       "1 DE               L           \n",
       "2 US               L           \n",
       "3 RU               M           \n",
       "4 RU               L           \n",
       "5 US               S           \n",
       "6 US               M           "
      ]
     },
     "metadata": {},
     "output_type": "display_data"
    }
   ],
   "source": [
    "download.file(\"https://raw.githubusercontent.com/Wills-Hao/201-Project/main/Data_Science_Jobs_Salaries.csv\", destfile = \"Data_Science_Jobs_Salaries.csv\")\n",
    "\n",
    "DsSalary <- read_csv(\"Data_Science_Jobs_Salaries.csv\")\n",
    "head(DsSalary)"
   ]
  },
  {
   "cell_type": "markdown",
   "id": "407fa8a0",
   "metadata": {},
   "source": [
    "As the introduction mentioned, we are interested in the data-related workers working remotely or not (the remote ratio of 0 and 100). Since the remote ratio and the salary(USD) are the only columns we are interested in, we just select them for the cleaned data frame."
   ]
  },
  {
   "cell_type": "code",
   "execution_count": 23,
   "id": "3c175982",
   "metadata": {},
   "outputs": [
    {
     "data": {
      "text/html": [
       "<table class=\"dataframe\">\n",
       "<caption>A tibble: 6 × 2</caption>\n",
       "<thead>\n",
       "\t<tr><th scope=col>remote_ratio</th><th scope=col>salary_in_usd</th></tr>\n",
       "\t<tr><th scope=col>&lt;fct&gt;</th><th scope=col>&lt;dbl&gt;</th></tr>\n",
       "</thead>\n",
       "<tbody>\n",
       "\t<tr><td>1e+02</td><td>6.843e+04</td></tr>\n",
       "\t<tr><td>0e+00</td><td>8.500e+04</td></tr>\n",
       "\t<tr><td>1e+02</td><td>1.250e+05</td></tr>\n",
       "\t<tr><td>1e+02</td><td>1.200e+05</td></tr>\n",
       "\t<tr><td>0e+00</td><td>4.500e+05</td></tr>\n",
       "\t<tr><td>1e+02</td><td>1.440e+05</td></tr>\n",
       "</tbody>\n",
       "</table>\n"
      ],
      "text/latex": [
       "A tibble: 6 × 2\n",
       "\\begin{tabular}{ll}\n",
       " remote\\_ratio & salary\\_in\\_usd\\\\\n",
       " <fct> & <dbl>\\\\\n",
       "\\hline\n",
       "\t 1e+02 & 6.843e+04\\\\\n",
       "\t 0e+00 & 8.500e+04\\\\\n",
       "\t 1e+02 & 1.250e+05\\\\\n",
       "\t 1e+02 & 1.200e+05\\\\\n",
       "\t 0e+00 & 4.500e+05\\\\\n",
       "\t 1e+02 & 1.440e+05\\\\\n",
       "\\end{tabular}\n"
      ],
      "text/markdown": [
       "\n",
       "A tibble: 6 × 2\n",
       "\n",
       "| remote_ratio &lt;fct&gt; | salary_in_usd &lt;dbl&gt; |\n",
       "|---|---|\n",
       "| 1e+02 | 6.843e+04 |\n",
       "| 0e+00 | 8.500e+04 |\n",
       "| 1e+02 | 1.250e+05 |\n",
       "| 1e+02 | 1.200e+05 |\n",
       "| 0e+00 | 4.500e+05 |\n",
       "| 1e+02 | 1.440e+05 |\n",
       "\n"
      ],
      "text/plain": [
       "  remote_ratio salary_in_usd\n",
       "1 1e+02        6.843e+04    \n",
       "2 0e+00        8.500e+04    \n",
       "3 1e+02        1.250e+05    \n",
       "4 1e+02        1.200e+05    \n",
       "5 0e+00        4.500e+05    \n",
       "6 1e+02        1.440e+05    "
      ]
     },
     "metadata": {},
     "output_type": "display_data"
    }
   ],
   "source": [
    "clean_DsSalary <- DsSalary %>%\n",
    "                  filter(!is.na(salary_in_usd&remote_ratio),\n",
    "                         remote_ratio %in% c(0, 100)) %>%\n",
    "                  mutate(remote_ratio = as_factor(remote_ratio)) %>%\n",
    "                  select(remote_ratio, salary_in_usd)\n",
    "head(clean_DsSalary)"
   ]
  },
  {
   "cell_type": "markdown",
   "id": "d3feeda7",
   "metadata": {
    "tags": []
   },
   "source": [
    "### Estimation of the Parameter"
   ]
  },
  {
   "cell_type": "markdown",
   "id": "bd8f2651",
   "metadata": {},
   "source": [
    "At first, we separately calculated the mean salaries of data-related workers who worked remotely (remote ratio > 80%) and the mean salaries of data-related workers who didn't work remotely (remote ratio < 20%). From the result below, we can see that the mean salary of remote workers has higher salaries. Then we find the difference between the two means is around 30145.229 USD, which can be seen as an estimation of the parameter."
   ]
  },
  {
   "cell_type": "code",
   "execution_count": 24,
   "id": "ab9645dc",
   "metadata": {},
   "outputs": [
    {
     "data": {
      "text/html": [
       "<table class=\"dataframe\">\n",
       "<caption>A tibble: 1 × 1</caption>\n",
       "<thead>\n",
       "\t<tr><th scope=col>mean_remote</th></tr>\n",
       "\t<tr><th scope=col>&lt;dbl&gt;</th></tr>\n",
       "</thead>\n",
       "<tbody>\n",
       "\t<tr><td>1.151e+05</td></tr>\n",
       "</tbody>\n",
       "</table>\n"
      ],
      "text/latex": [
       "A tibble: 1 × 1\n",
       "\\begin{tabular}{l}\n",
       " mean\\_remote\\\\\n",
       " <dbl>\\\\\n",
       "\\hline\n",
       "\t 1.151e+05\\\\\n",
       "\\end{tabular}\n"
      ],
      "text/markdown": [
       "\n",
       "A tibble: 1 × 1\n",
       "\n",
       "| mean_remote &lt;dbl&gt; |\n",
       "|---|\n",
       "| 1.151e+05 |\n",
       "\n"
      ],
      "text/plain": [
       "  mean_remote\n",
       "1 1.151e+05  "
      ]
     },
     "metadata": {},
     "output_type": "display_data"
    },
    {
     "data": {
      "text/html": [
       "<table class=\"dataframe\">\n",
       "<caption>A tibble: 1 × 1</caption>\n",
       "<thead>\n",
       "\t<tr><th scope=col>mean_office</th></tr>\n",
       "\t<tr><th scope=col>&lt;dbl&gt;</th></tr>\n",
       "</thead>\n",
       "<tbody>\n",
       "\t<tr><td>8.496e+04</td></tr>\n",
       "</tbody>\n",
       "</table>\n"
      ],
      "text/latex": [
       "A tibble: 1 × 1\n",
       "\\begin{tabular}{l}\n",
       " mean\\_office\\\\\n",
       " <dbl>\\\\\n",
       "\\hline\n",
       "\t 8.496e+04\\\\\n",
       "\\end{tabular}\n"
      ],
      "text/markdown": [
       "\n",
       "A tibble: 1 × 1\n",
       "\n",
       "| mean_office &lt;dbl&gt; |\n",
       "|---|\n",
       "| 8.496e+04 |\n",
       "\n"
      ],
      "text/plain": [
       "  mean_office\n",
       "1 8.496e+04  "
      ]
     },
     "metadata": {},
     "output_type": "display_data"
    }
   ],
   "source": [
    "remote_df <- clean_DsSalary %>%\n",
    "                  filter(remote_ratio == 100) %>%\n",
    "                  select(salary_in_usd)\n",
    " \n",
    "remote_mean <- remote_df %>%\n",
    "                summarise(mean_remote = mean(salary_in_usd))\n",
    "remote_mean\n",
    "\n",
    "no_remote_df <- clean_DsSalary %>%\n",
    "                filter(remote_ratio == 0) %>%\n",
    "                select(salary_in_usd)\n",
    "\n",
    "no_remote_mean <- no_remote_df %>%\n",
    "                 summarise(mean_office = mean(salary_in_usd))\n",
    "no_remote_mean"
   ]
  },
  {
   "cell_type": "code",
   "execution_count": 25,
   "id": "51a7238a",
   "metadata": {},
   "outputs": [
    {
     "data": {
      "text/html": [
       "3.01452291044776e+04"
      ],
      "text/latex": [
       "3.01452291044776e+04"
      ],
      "text/markdown": [
       "3.01452291044776e+04"
      ],
      "text/plain": [
       "[1] 3.015e+04"
      ]
     },
     "metadata": {},
     "output_type": "display_data"
    }
   ],
   "source": [
    "estimation_diff_mean <- pull(remote_mean) - pull(no_remote_mean)\n",
    "estimation_diff_mean\n",
    "options(\"scipen\"=-100, \"digits\"=4)"
   ]
  },
  {
   "cell_type": "markdown",
   "id": "439e92ea",
   "metadata": {},
   "source": [
    "### Visualizing the Data"
   ]
  },
  {
   "cell_type": "markdown",
   "id": "e81ebc86",
   "metadata": {},
   "source": [
    "Firstly, we will plot the raw data distribution of two data frames(the remote working one and the no remote working one) with the vertical lines of their mean value. By comparing them, we can see that the mean salary of remote workers has a higher value of salary."
   ]
  },
  {
   "cell_type": "code",
   "execution_count": 26,
   "id": "ab0d6e17",
   "metadata": {},
   "outputs": [
    {
     "name": "stderr",
     "output_type": "stream",
     "text": [
      "Warning message:\n",
      "“Removed 2 rows containing missing values (geom_bar).”\n"
     ]
    },
    {
     "ename": "ERROR",
     "evalue": "Error in valid.charjust(just): invalid horizontal justification\n",
     "output_type": "error",
     "traceback": [
      "Error in valid.charjust(just): invalid horizontal justification\nTraceback:\n",
      "1. plot_grid(remote_distribution + scale_x_continuous(limits = c(0e+00, \n .     6.5e+05)), no_remote_distribution + scale_x_continuous(limits = c(0e+00, \n .     6.5e+05)), nrow = 2e+00)",
      "2. align_plots(plotlist = plots, align = align, axis = axis, greedy = greedy)",
      "3. lapply(plots, function(x) {\n .     if (!is.null(x)) \n .         as_gtable(x)\n .     else NULL\n . })",
      "4. FUN(X[[i]], ...)",
      "5. as_gtable(x)",
      "6. as_gtable.default(x)",
      "7. as_grob(plot)",
      "8. as_grob.ggplot(plot)",
      "9. ggplot2::ggplotGrob(plot)",
      "10. ggplot_gtable(ggplot_build(x))",
      "11. ggplot_gtable.ggplot_built(ggplot_build(x))",
      "12. Map(function(l, d) l$draw_geom(d, layout), plot$layers, data)",
      "13. mapply(FUN = f, ..., SIMPLIFY = FALSE)",
      "14. (function (l, d) \n  . l$draw_geom(d, layout))(dots[[1L]][[1L]], dots[[2L]][[1L]])",
      "15. l$draw_geom(d, layout)",
      "16. f(..., self = self)",
      "17. self$geom$draw_layer(data, self$computed_geom_params, layout, \n  .     layout$coord)",
      "18. f(..., self = self)",
      "19. lapply(split(data, data$PANEL), function(data) {\n  .     if (empty(data)) \n  .         return(zeroGrob())\n  .     panel_params <- layout$panel_params[[data$PANEL[1e+00]]]\n  .     do.call(self$draw_panel, args)\n  . })",
      "20. FUN(X[[i]], ...)",
      "21. do.call(self$draw_panel, args)",
      "22. (structure(function (...) \n  . f(..., self = self), class = \"ggproto_method\"))(data, panel_params, \n  .     coord, flipped_aes = FALSE)",
      "23. f(..., self = self)",
      "24. ggproto_parent(GeomRect, self)$draw_panel(data, panel_params, \n  .     coord)",
      "25. f(..., self = self)",
      "26. ggname(\"geom_rect\", rectGrob(coords$xmin, coords$ymax, width = coords$xmax - \n  .     coords$xmin, height = coords$ymax - coords$ymin, default.units = \"native\", \n  .     just = c(\"left\", \"top\"), gp = gpar(col = coords$colour, fill = alpha(coords$fill, \n  .         coords$alpha), lwd = coords$size * .pt, lty = coords$linetype, \n  .         linejoin = linejoin, lineend = if (identical(linejoin, \n  .             \"round\")) \"round\" else \"square\")))",
      "27. grobName(grob, prefix)",
      "28. rectGrob(coords$xmin, coords$ymax, width = coords$xmax - coords$xmin, \n  .     height = coords$ymax - coords$ymin, default.units = \"native\", \n  .     just = c(\"left\", \"top\"), gp = gpar(col = coords$colour, fill = alpha(coords$fill, \n  .         coords$alpha), lwd = coords$size * .pt, lty = coords$linetype, \n  .         linejoin = linejoin, lineend = if (identical(linejoin, \n  .             \"round\")) \"round\" else \"square\"))",
      "29. grob(x = x, y = y, width = width, height = height, just = just, \n  .     hjust = hjust, vjust = vjust, name = name, gp = gp, vp = vp, \n  .     cl = \"rect\")",
      "30. validGrob(g)",
      "31. validGrob.grob(g)",
      "32. validDetails(x)",
      "33. validDetails.rect(x)",
      "34. valid.just(x$just)",
      "35. valid.charjust(just)",
      "36. stop(\"invalid horizontal justification\")"
     ]
    }
   ],
   "source": [
    "remote_distribution <- remote_df %>%\n",
    "                          ggplot(aes(x=salary_in_usd)) +\n",
    "                          geom_histogram(bins=80, color=\"darkblue\", fill=\"lightblue\") +\n",
    "                          geom_vline(aes(xintercept = pull(remote_mean)), color=\"red\", linetype=\"dashed\", size = 1)+\n",
    "                          ggtitle(\"Sample distribution of the salaries(USD) of data related jobs worked remotely (remote ratio > 80%)\")+\n",
    "                          labs(x=\"Salaries (in USD)\",\n",
    "                               y=\"People\")+\n",
    "                          theme(text = element_text(size=20)) \n",
    "\n",
    "no_remote_distribution <- no_remote_df %>%\n",
    "                          ggplot(aes(x=salary_in_usd)) +\n",
    "                          geom_histogram(bins=80, color=\"darkblue\", fill=\"lightblue\") +\n",
    "                          geom_vline(aes(xintercept = pull(no_remote_mean)), color=\"red\", linetype=\"dashed\", size = 1)+\n",
    "                          ggtitle(\"Sample distribution of the salaries(USD) of data related jobs worked in office (remote ratio < 20%)\")+\n",
    "                          labs(x=\"Salaries (in USD)\",\n",
    "                               y=\"People\")+\n",
    "                          theme(text = element_text(size=20))\n",
    "\n",
    "options(repr.plot.width = 16, repr.plot.height = 14)\n",
    "\n",
    "mean_plot_row <- plot_grid(remote_distribution+\n",
    "                           scale_x_continuous(limits = c(0, 6.5e+05)),\n",
    "                           no_remote_distribution+\n",
    "                           scale_x_continuous(limits = c(0, 6.5e+05)),\n",
    "                           nrow = 2)\n",
    "mean_plot_row"
   ]
  },
  {
   "cell_type": "code",
   "execution_count": null,
   "id": "9fe4e870",
   "metadata": {},
   "outputs": [],
   "source": [
    "\n",
    "remote_density <- remote_df %>%\n",
    "                          ggplot(aes(x=salary_in_usd)) +\n",
    "                          geom_histogram(aes(y=..density..), bins=80, color=\"darkblue\", fill=\"lightblue\") +\n",
    "                          geom_density(alpha=.2, fill=\"#FF6666\")+\n",
    "                          labs(x = \"Salaries (in USD)\",\n",
    "                               y = \"Density\")+\n",
    "                          ggtitle(\"Density plot of working remotely (remote ratio > 80%)\")+\n",
    "                          theme(text = element_text(size=20))\n",
    "no_remote_density <- no_remote_df %>%\n",
    "                          ggplot(aes(x=salary_in_usd)) +\n",
    "                          geom_histogram(aes(y=..density..), bins=80, color=\"darkblue\", fill=\"lightblue\") +\n",
    "                          geom_density(alpha=.2, fill=\"#FF6666\")+\n",
    "                          labs(x = \"Salaries (in USD)\",\n",
    "                               y = \"Density\")+\n",
    "                          ggtitle(\"Density plot of working in office (remote ratio < 20%)\")+\n",
    "                          theme(text = element_text(size=20))\n",
    "\n",
    "options(repr.plot.width = 20, repr.plot.height = 8)\n",
    "\n",
    "density_plot <- plot_grid(remote_density+\n",
    "                           scale_x_continuous(limits = c(0, 6.5e+05)),\n",
    "                           no_remote_density+\n",
    "                           scale_x_continuous(limits = c(0, 6.5e+05)),\n",
    "                           ncol = 2)\n",
    "density_plot"
   ]
  },
  {
   "cell_type": "markdown",
   "id": "5f33e12b",
   "metadata": {},
   "source": [
    "From the density plots, we can see both of them are skewed to the right."
   ]
  },
  {
   "cell_type": "markdown",
   "id": "33e1916e",
   "metadata": {},
   "source": [
    "## 3 Hypothesis Testing"
   ]
  },
  {
   "cell_type": "markdown",
   "id": "fa2f66cc",
   "metadata": {},
   "source": [
    "For this section, we will use hypothesis testing to determine whether there is enough statistical evidence in favor of the statement that the mean salary for data scientists who work remotely is different from the mean salary for data scientists who does not work remotely. For this project, we set the 0.95 `confidence level`, which means a 0.05 significance level.\n",
    "\n",
    "The null hypothesis ($H_0$): There is `no difference` between the mean salary for data scientists who work remotely and the mean salary for data scientists who does not work remotely.\n",
    "\n",
    "The alternative hypothesis ($H_A$): There is `a difference` between the mean salary for data scientists who work remotely and the mean salary for data scientists who does not work remotely.\n",
    "\n",
    "\n",
    "$\\mu_1$: The population mean of salary for data scientists who `work remotely`\n",
    "\n",
    "$\\mu_2$: The population mean of salary for data scientists who does not `work remotely`\n",
    "\n",
    "$H_0: \\mu_1 - \\mu_2 = 0$\n",
    "\n",
    "$H_A: \\mu_1 - \\mu_2 \\neq 0$"
   ]
  },
  {
   "cell_type": "markdown",
   "id": "f60d6a2d",
   "metadata": {},
   "source": [
    "### Bootstrapping method"
   ]
  },
  {
   "cell_type": "markdown",
   "id": "b4a507f3",
   "metadata": {},
   "source": [
    "First, we will review the `observed test statistic` (the difference between the mean salary for data scientists who work remotely and the mean salary for data scientists who does not work remotely from the dataset) calculated in the preliminary results section. Then, we will use the `infer` package to obtain the bootstrapped sampling distribution to estimate the sampling distribution, so that we can use it to find out the `p-value` (the probability of getting a value more \"extreme\" than the observed test statistic). Also, we will construct a `confidence interval` based of the confidence level on the bootstrap distribution. Based on the p-value and the confidence interval, we can reject or not reject the null hypothesis $H_0$. "
   ]
  },
  {
   "cell_type": "code",
   "execution_count": null,
   "id": "0ac50445",
   "metadata": {},
   "outputs": [],
   "source": [
    "# Review of the obeserved test statistic\n",
    "cat(\"The value of the observed test statistic is\", estimation_diff_mean)"
   ]
  },
  {
   "cell_type": "markdown",
   "id": "fd082d84",
   "metadata": {
    "tags": []
   },
   "source": [
    "#### Find the null distribution and the p-value "
   ]
  },
  {
   "cell_type": "code",
   "execution_count": null,
   "id": "fac26835",
   "metadata": {},
   "outputs": [],
   "source": [
    "# Using the infer package, to obtain the bootstrapped sampling distribution of test statistic \n",
    "# by 1000 replications\n",
    "set.seed(111)\n",
    "\n",
    "sampling_dist_mean_salary <-  \n",
    "   clean_DsSalary %>%\n",
    "   specify(formula = salary_in_usd ~ remote_ratio) %>% \n",
    "   hypothesize(null = \"independence\") %>% \n",
    "   generate(reps = 1000, type = \"permute\") %>% \n",
    "   calculate(stat=\"diff in means\", order = c(100, 0))\n",
    "\n",
    "head(sampling_dist_mean_salary)"
   ]
  },
  {
   "cell_type": "markdown",
   "id": "f2c5e8ff",
   "metadata": {},
   "source": [
    "Since the alternative hypothesis is $\\mu_1 - \\mu_2 \\neq 0$, we will find the p-value by the two sided direction (region shaded in red below). "
   ]
  },
  {
   "cell_type": "code",
   "execution_count": null,
   "id": "155c71a9",
   "metadata": {},
   "outputs": [],
   "source": [
    "# Plot the result of the hypothesis test with the vertical line of the test statistic's position\n",
    "\n",
    "options(repr.plot.width = 8, repr.plot.height = 6)\n",
    "result_plot_students <- \n",
    "   sampling_dist_mean_salary %>%\n",
    "   visualize() + \n",
    "   shade_p_value(obs_stat = estimation_diff_mean, direction = \"two-sided\") +\n",
    "   ggtitle(\"Null distribution\")+\n",
    "   labs(x = \"Difference of Means (in USD)\")+\n",
    "   theme(text = element_text(size = 20))\n",
    "\n",
    "result_plot_students"
   ]
  },
  {
   "cell_type": "code",
   "execution_count": null,
   "id": "435e07f1",
   "metadata": {},
   "outputs": [],
   "source": [
    "# Obtaining the p-value\n",
    "\n",
    "p_value_mean_salary <- \n",
    "    sampling_dist_mean_salary %>% \n",
    "    get_p_value(obs_stat = estimation_diff_mean, direction = \"two-sided\") %>%\n",
    "    pull()\n",
    "\n",
    "cat(\"The P-value is\", p_value_mean_salary)"
   ]
  },
  {
   "cell_type": "markdown",
   "id": "885ca774",
   "metadata": {},
   "source": [
    "#### Find the bootstrap distribution and the 95% confidence interval"
   ]
  },
  {
   "cell_type": "code",
   "execution_count": null,
   "id": "a640a978",
   "metadata": {},
   "outputs": [],
   "source": [
    "# Using the infer package, to obtain the bootstrap distribution of test statistic by 1000 replications\n",
    "set.seed(222)\n",
    "\n",
    "bootstrap_dist_diff_in_mean <-  \n",
    "   clean_DsSalary %>%\n",
    "   specify(formula = salary_in_usd ~ remote_ratio) %>% \n",
    "   generate(reps = 1000, type = \"bootstrap\") %>% \n",
    "   calculate(stat=\"diff in means\", order = c(100, 0))\n",
    "\n",
    "# Obtain the 95% confidence interval\n",
    "diff_in_means_ci <- bootstrap_dist_diff_in_mean %>%\n",
    "                    get_confidence_interval(level = 0.95, type = \"percentile\") \n",
    "\n",
    "diff_in_means_ci"
   ]
  },
  {
   "cell_type": "code",
   "execution_count": null,
   "id": "21d47b29",
   "metadata": {},
   "outputs": [],
   "source": [
    "# The Plot of the confidence interval in bootstrap distribution with a vertical line \n",
    "# of the value of H_0 (null value)\n",
    "\n",
    "options(repr.plot.width = 8, repr.plot.height = 6)\n",
    "diff_in_means_ci_plot <- bootstrap_dist_diff_in_mean %>%\n",
    "                        visualize(bins = 10) +\n",
    "                        shade_confidence_interval(endpoints = diff_in_means_ci) +\n",
    "                        xlab(\"Difference of Means (in USD)\")+\n",
    "                        ggtitle(\"Bootstrap Distribution\") +\n",
    "                    geom_vline(xintercept = 0, color = \"red\", alpha=.3, lwd=2)+\n",
    "                    annotate(\"text\", x = -15000, \n",
    "                             y =300, label = \"The Null value 0 is on \\n the left side of the lower CI\", \n",
    "                             color=\"red\", size=4.8)+\n",
    "                    theme(text = element_text(size = 20))\n",
    "    \n",
    "diff_in_means_ci_plot"
   ]
  },
  {
   "cell_type": "markdown",
   "id": "960d75f7",
   "metadata": {},
   "source": [
    "#### Result of the bootstrap method:"
   ]
  },
  {
   "cell_type": "markdown",
   "id": "0856ac39",
   "metadata": {},
   "source": [
    "Two methods are used to determine whether reject the null hypothesis (no difference), one is by comparing the p-value and the significance level, and another is by determining whether the confidence interval embraced the value of the null hypothesis which is 0 (null value). \n",
    "\n",
    "First of all, the `p-value` of 0.04 which is smaller than the `significant level` of 0.05 is statistically significant. It shows strong evidence against the null hypothesis because the probability of the null hypothesis being correct is less than 5%. Therefore, we reject the null hypothesis and accept the alternative hypothesis.\n",
    "\n",
    "Secondly, the `null value` of the difference between two groups' mean salary is 0, which is not contained in the `confidence interval` (515.3215, 57918.65). It indicates that the null value 0 is not a reasonable value for the true difference in mean salaries between the two groups. Thus, we reject the null hypothesis and accept the alternative hypothesis.\n",
    "\n",
    "In summary, there is a difference between the mean of salary for data scientists who work remotely and the mean of salary for data scientists who does not work remotely. "
   ]
  },
  {
   "cell_type": "markdown",
   "id": "c487cd32-e787-4087-8d80-764515ab4881",
   "metadata": {},
   "source": [
    "### Central Limit Theorem "
   ]
  },
  {
   "cell_type": "markdown",
   "id": "f59ffc06-ab9e-4b7c-9187-0d2c0b1397ee",
   "metadata": {},
   "source": [
    "There are alternatives to bootstrapping when it comes to studying sampling distributions, specifically methods that rely on mathematical modelling and approximations. One method relies on the `central limit theorem` which tells us that when we increase our sample size and take a sampling distribution that we reduce the variability of sample means. This reduction in variability improves the centre of our sampling distribution and thus the quality of the estimate. \n",
    "\n",
    "Central Limit Theorem is also useful in our scenario, as it states if our sample size if large enough our sampling distribution can be approximated with a normal distribution regardless of the population distribution. This is a useful approximation for us because we don't know the distribution of our population and we have no feasible way of gathering that information. By taking the sampling distribution and applying the central limit theorem we can theoretically make a better estimate for our parameter of interest (difference in means). Note we are additionally assuming that our sample is unbiased. "
   ]
  },
  {
   "cell_type": "markdown",
   "id": "c6592e23-4db6-490f-9aec-d2463aeee580",
   "metadata": {},
   "source": [
    "#### Samples"
   ]
  },
  {
   "cell_type": "markdown",
   "id": "a5f1bbbd-146a-4e3c-b1bc-d22a6b5904c4",
   "metadata": {},
   "source": [
    "Since we are interested in the difference between two related populations, our samples will need to be taken from both groups. As shown above we do have a larger number of observations from fully remote workers (134) than from in office workers (40)."
   ]
  },
  {
   "cell_type": "code",
   "execution_count": null,
   "id": "b04dfb1c-a792-459c-bce7-011f53790cb9",
   "metadata": {},
   "outputs": [],
   "source": [
    "remote_ratio_0 <- clean_DsSalary %>%\n",
    "    mutate(remote_ratio_factor = as.factor(remote_ratio)) %>%\n",
    "    filter(remote_ratio_factor == \"0\") %>%\n",
    "    select(remote_ratio, salary_in_usd)\n",
    "\n",
    "remote_ratio_100 <- clean_DsSalary %>%\n",
    "    mutate(remote_ratio_factor = as.factor(remote_ratio)) %>%\n",
    "    filter(remote_ratio_factor == \"100\") %>%\n",
    "    select(remote_ratio, salary_in_usd)"
   ]
  },
  {
   "cell_type": "code",
   "execution_count": null,
   "id": "739210d6-9de6-43da-944b-c10df66a43e5",
   "metadata": {},
   "outputs": [],
   "source": [
    "seed(2000)\n",
    "\n",
    "sample_10_0 <- remote_ratio_0 %>%\n",
    "    rep_sample_n(size = 10, reps = 3000, replace = FALSE)\n",
    "\n",
    "sample_10_100 <- remote_ratio_100 %>%\n",
    "    rep_sample_n(size = 10, reps = 3000, replace = FALSE)\n",
    "\n",
    "sample_10 <- merge(sample_10_0, sample_10_100,\n",
    "                    all = TRUE)\n",
    "\n",
    "sample_20_0 <- remote_ratio_0 %>%\n",
    "    rep_sample_n(size = 20, reps = 3000, replace = FALSE)\n",
    "\n",
    "sample_20_100 <- remote_ratio_100 %>%\n",
    "    rep_sample_n(size = 20, reps = 3000, replace = FALSE)\n",
    "\n",
    "sample_20 <- merge(sample_20_0, sample_20_100,\n",
    "                    all = TRUE)\n",
    "\n",
    "sample_30_0 <- remote_ratio_0 %>%\n",
    "    rep_sample_n(size = 30, reps = 3000, replace = FALSE)\n",
    "\n",
    "sample_30_100 <- remote_ratio_100 %>%\n",
    "    rep_sample_n(size = 30, reps = 3000, replace = FALSE)\n",
    "\n",
    "sample_30 <- merge(sample_30_0, sample_30_100,\n",
    "                    all = TRUE)\n",
    "\n",
    "sample_40_0 <- remote_ratio_0 %>%\n",
    "    rep_sample_n(size = 40, reps = 3000, replace = FALSE)\n",
    "\n",
    "sample_40_100 <- remote_ratio_100 %>%\n",
    "    rep_sample_n(size = 40, reps = 3000, replace = FALSE)\n",
    "\n",
    "sample_40 <- merge(sample_40_0, sample_40_100,\n",
    "                    all = TRUE)"
   ]
  },
  {
   "cell_type": "code",
   "execution_count": null,
   "id": "eacbd04b-45f7-4742-a63f-fcc7c76178f8",
   "metadata": {},
   "outputs": [],
   "source": [
    "sampling_dist_10 <- sample_10 %>%\n",
    "    group_by(replicate, remote_ratio) %>% \n",
    "    summarise(sample_mean = mean(salary_in_usd), `.groups` = \"drop\") %>%\n",
    "    group_by(replicate) %>%\n",
    "    summarise(diff_in_sample_mean = diff(sample_mean), `.groups` = \"drop\") %>%\n",
    "    ggplot() + \n",
    "    geom_histogram(aes(x = diff_in_sample_mean, y = ..density..), color=\"white\", binwidth = 10000) +\n",
    "    xlim(-100000, 150000) +\n",
    "    theme(text = element_text(size = 20))+\n",
    "    xlab(\"Difference in Sample Mean (Remote(100) - No Remote(0))\") +\n",
    "    ggtitle(\"Sampling distribution (size 10)\")  \n",
    "\n",
    "sampling_dist_20 <- sample_20 %>%\n",
    "    group_by(replicate, remote_ratio) %>% \n",
    "    summarise(sample_mean = mean(salary_in_usd), `.groups` = \"drop\") %>%\n",
    "    group_by(replicate) %>%\n",
    "    summarise(diff_in_sample_mean = diff(sample_mean), `.groups` = \"drop\") %>%\n",
    "    ggplot() + \n",
    "    geom_histogram(aes(x = diff_in_sample_mean, y = ..density..), color=\"white\", binwidth = 10000) +\n",
    "    xlim(-100000, 150000) +\n",
    "    theme(text = element_text(size = 20))+\n",
    "    xlab(\"Difference in Sample Mean (Remote(100) - No Remote(0))\") +\n",
    "    ggtitle(\"Sampling distribution (size 20)\")  \n",
    "\n",
    "sampling_dist_30 <- sample_30 %>%\n",
    "    group_by(replicate, remote_ratio) %>% \n",
    "    summarise(sample_mean = mean(salary_in_usd), `.groups` = \"drop\") %>%\n",
    "    group_by(replicate) %>%\n",
    "    summarise(diff_in_sample_mean = diff(sample_mean), `.groups` = \"drop\") %>%\n",
    "    ggplot() + \n",
    "    geom_histogram(aes(x = diff_in_sample_mean, y = ..density..), color=\"white\", binwidth = 10000) +\n",
    "    xlim(-100000, 150000) +\n",
    "    theme(text = element_text(size = 20))+\n",
    "    xlab(\"Difference in Sample Mean (Remote(100) - No Remote(0))\") +\n",
    "    ggtitle(\"Sampling distribution (size 30)\")  \n",
    "\n",
    "sampling_dist_40 <- sample_40 %>%\n",
    "    group_by(replicate, remote_ratio) %>% \n",
    "    summarise(sample_mean = mean(salary_in_usd), `.groups` = \"drop\") %>%\n",
    "    group_by(replicate) %>%\n",
    "    summarise(diff_in_sample_mean = diff(sample_mean), `.groups` = \"drop\") %>%\n",
    "    ggplot() + \n",
    "    geom_histogram(aes(x = diff_in_sample_mean, y = ..density..), color=\"white\", binwidth = 10000) +\n",
    "    xlim(-100000, 150000) +\n",
    "    theme(text = element_text(size = 20))+\n",
    "    xlab(\"Difference in Sample Mean (Remote(100) - No Remote(0))\") +\n",
    "    ggtitle(\"Sampling distribution (size 40)\")  \n",
    "\n",
    "grid.arrange(sampling_dist_10, sampling_dist_20, sampling_dist_30, sampling_dist_40, ncol = 2, nrow = 2)"
   ]
  },
  {
   "cell_type": "markdown",
   "id": "b5cee690-ed2a-401b-b4d9-5171b2104181",
   "metadata": {},
   "source": [
    "As seen above, we see that central limit theorem seems to apply to our sample, we see that the center of the distributions is approximately the same and as we increase the sample size the normal distribution narrows (less spread). The normal distribution shape is seen in this case in all the sample sizes we tried."
   ]
  },
  {
   "cell_type": "markdown",
   "id": "c8535876-529a-486c-9bad-109fe82e632d",
   "metadata": {},
   "source": [
    "#### Confidence Interval by Central Limit Theory"
   ]
  },
  {
   "cell_type": "markdown",
   "id": "b44d1e11-a607-4c7f-9cec-42c3e7730b3f",
   "metadata": {},
   "source": [
    "We can try to approximate the sampling distribution of $\\bar{X}_1-\\bar{X}_2$ by\n",
    "$$\n",
    "\\bar{X}_1-\\bar{X}_2\\sim N\\left(\\mu_1 - \\mu_2, \\sqrt{\\frac{s^2_1}{n_1}+\\frac{s^2_2}{n_2}}\\right)\n",
    "$$\n",
    "\n",
    "and find the Confidence Interval by \n",
    "$$\n",
    "CI\\left(\\mu_1 - \\mu_2\\right) = \\left(\\bar{X}_1-\\bar{X}_2\\right) \\pm z^*\\sqrt{\\frac{s^2_1}{n_1}+\\frac{s^2_2}{n_2}}\n",
    "$$\n",
    "where $z^*$ is the quantile of a standard Normal.\n",
    "\n",
    "We are interested in a `95% Confidence Interval`."
   ]
  },
  {
   "cell_type": "code",
   "execution_count": 27,
   "id": "9a70b236-0db4-4eb0-9152-ae4d9893c6c8",
   "metadata": {},
   "outputs": [
    {
     "data": {
      "text/html": [
       "<table class=\"dataframe\">\n",
       "<caption>A tibble: 1 × 2</caption>\n",
       "<thead>\n",
       "\t<tr><th scope=col>lower_ci</th><th scope=col>upper_ci</th></tr>\n",
       "\t<tr><th scope=col>&lt;dbl&gt;</th><th scope=col>&lt;dbl&gt;</th></tr>\n",
       "</thead>\n",
       "<tbody>\n",
       "\t<tr><td>-8.042e+02</td><td>6.109e+04</td></tr>\n",
       "</tbody>\n",
       "</table>\n"
      ],
      "text/latex": [
       "A tibble: 1 × 2\n",
       "\\begin{tabular}{ll}\n",
       " lower\\_ci & upper\\_ci\\\\\n",
       " <dbl> & <dbl>\\\\\n",
       "\\hline\n",
       "\t -8.042e+02 & 6.109e+04\\\\\n",
       "\\end{tabular}\n"
      ],
      "text/markdown": [
       "\n",
       "A tibble: 1 × 2\n",
       "\n",
       "| lower_ci &lt;dbl&gt; | upper_ci &lt;dbl&gt; |\n",
       "|---|---|\n",
       "| -8.042e+02 | 6.109e+04 |\n",
       "\n"
      ],
      "text/plain": [
       "  lower_ci   upper_ci \n",
       "1 -8.042e+02 6.109e+04"
      ]
     },
     "metadata": {},
     "output_type": "display_data"
    }
   ],
   "source": [
    "wfh <- remote_ratio_100 %>%\n",
    "    select(salary_in_usd)\n",
    "\n",
    "office <- remote_ratio_0 %>%\n",
    "    select(salary_in_usd)\n",
    "\n",
    "DsSalary_diff_means_ci <- \n",
    "     tibble(\n",
    "         lower_ci = mean(wfh$salary_in_usd) - mean(office$salary_in_usd) + qnorm(0.025) * sqrt(var(wfh$salary_in_usd)/nrow(wfh) + var(office$salary_in_usd)/nrow(office)),\n",
    "         upper_ci = mean(wfh$salary_in_usd) - mean(office$salary_in_usd) + qnorm(0.975) * sqrt(var(wfh$salary_in_usd)/nrow(wfh) + var(office$salary_in_usd)/nrow(office))\n",
    "     )\n",
    "\n",
    "DsSalary_diff_means_ci"
   ]
  },
  {
   "cell_type": "markdown",
   "id": "5d64d88a-e926-447b-a002-c22f6d7376e4",
   "metadata": {},
   "source": [
    "#### Result of the Central Limit Theory Method:\n",
    "\n",
    "The `95% Confidence Interval` given by the above approximation is (-804.16, 61,094.62). Our null value is 0, which is does fall within the interval, therefore based on this approximation we would not reject the null hypothesis at a 5% significant level. "
   ]
  },
  {
   "cell_type": "markdown",
   "id": "1cff76eb-8d8b-4350-98f8-4f2dff45c960",
   "metadata": {},
   "source": [
    "### Student's t-test (t-distribution)"
   ]
  },
  {
   "cell_type": "markdown",
   "id": "1cd59a94-9bc4-4edd-95cf-1b1fbc66a570",
   "metadata": {},
   "source": [
    "Additionally, we will try to apply a `Student's t-test (t-distribution)` which may result in a better approximation. Similar to the normal distribution in the shape however is different in that the center is always 0 and the spread is controlled by a variable called the degree of freedom. \n",
    "\n",
    "To answer our question $H_0: \\mu_1 - \\mu_2 = 0$ and $H_a: \\mu_1 - \\mu_2 \\neq 0$, let's use the `t test function`to calculate our `p-value`. "
   ]
  },
  {
   "cell_type": "code",
   "execution_count": 28,
   "id": "39793a53-e54c-4758-96d5-c4e2671f6ef5",
   "metadata": {},
   "outputs": [
    {
     "data": {
      "text/html": [
       "<table class=\"dataframe\">\n",
       "<caption>A tibble: 1 × 10</caption>\n",
       "<thead>\n",
       "\t<tr><th scope=col>estimate</th><th scope=col>estimate1</th><th scope=col>estimate2</th><th scope=col>statistic</th><th scope=col>p.value</th><th scope=col>parameter</th><th scope=col>conf.low</th><th scope=col>conf.high</th><th scope=col>method</th><th scope=col>alternative</th></tr>\n",
       "\t<tr><th scope=col>&lt;dbl&gt;</th><th scope=col>&lt;dbl&gt;</th><th scope=col>&lt;dbl&gt;</th><th scope=col>&lt;dbl&gt;</th><th scope=col>&lt;dbl&gt;</th><th scope=col>&lt;dbl&gt;</th><th scope=col>&lt;dbl&gt;</th><th scope=col>&lt;dbl&gt;</th><th scope=col>&lt;chr&gt;</th><th scope=col>&lt;chr&gt;</th></tr>\n",
       "</thead>\n",
       "<tbody>\n",
       "\t<tr><td>3.015e+04</td><td>1.151e+05</td><td>8.496e+04</td><td>1.909e+00</td><td>6.061e-02</td><td>6.602e+01</td><td>-1.382e+03</td><td>6.167e+04</td><td>Welch Two Sample t-test</td><td>two.sided</td></tr>\n",
       "</tbody>\n",
       "</table>\n"
      ],
      "text/latex": [
       "A tibble: 1 × 10\n",
       "\\begin{tabular}{llllllllll}\n",
       " estimate & estimate1 & estimate2 & statistic & p.value & parameter & conf.low & conf.high & method & alternative\\\\\n",
       " <dbl> & <dbl> & <dbl> & <dbl> & <dbl> & <dbl> & <dbl> & <dbl> & <chr> & <chr>\\\\\n",
       "\\hline\n",
       "\t 3.015e+04 & 1.151e+05 & 8.496e+04 & 1.909e+00 & 6.061e-02 & 6.602e+01 & -1.382e+03 & 6.167e+04 & Welch Two Sample t-test & two.sided\\\\\n",
       "\\end{tabular}\n"
      ],
      "text/markdown": [
       "\n",
       "A tibble: 1 × 10\n",
       "\n",
       "| estimate &lt;dbl&gt; | estimate1 &lt;dbl&gt; | estimate2 &lt;dbl&gt; | statistic &lt;dbl&gt; | p.value &lt;dbl&gt; | parameter &lt;dbl&gt; | conf.low &lt;dbl&gt; | conf.high &lt;dbl&gt; | method &lt;chr&gt; | alternative &lt;chr&gt; |\n",
       "|---|---|---|---|---|---|---|---|---|---|\n",
       "| 3.015e+04 | 1.151e+05 | 8.496e+04 | 1.909e+00 | 6.061e-02 | 6.602e+01 | -1.382e+03 | 6.167e+04 | Welch Two Sample t-test | two.sided |\n",
       "\n"
      ],
      "text/plain": [
       "  estimate  estimate1 estimate2 statistic p.value   parameter conf.low  \n",
       "1 3.015e+04 1.151e+05 8.496e+04 1.909e+00 6.061e-02 6.602e+01 -1.382e+03\n",
       "  conf.high method                  alternative\n",
       "1 6.167e+04 Welch Two Sample t-test two.sided  "
      ]
     },
     "metadata": {},
     "output_type": "display_data"
    }
   ],
   "source": [
    "t_test <- tidy(\n",
    "    t.test(wfh,\n",
    "           office,\n",
    "           alternative = \"two.sided\", )\n",
    "    ) \n",
    "t_test"
   ]
  },
  {
   "cell_type": "markdown",
   "id": "c03d72d8-1029-4259-9b5d-e413f4b8e66c",
   "metadata": {},
   "source": [
    "#### Result of the Student's t-test: \n",
    "\n",
    "We obtained a `p-value` of 0.06 from our t-test, therefore at a `0.05 significance level` we do not reject the null hypothesis since the p-value is larger than our significance level. "
   ]
  },
  {
   "cell_type": "markdown",
   "id": "cecf2a5a-5723-4f78-8979-d790348d7cf4",
   "metadata": {},
   "source": [
    "### Bootstrap Method vs Central Limit Theorem\n",
    "\n",
    "Bootstrapping is an alternative to asymptotic approximation for carrying out inference. The idea is to mimic the variation from drawing different samples from a population by the variation from redrawing samples from a sample. Asymptotic analysis uses large population and the number of samples is much larger. In this problem, bootstrapping is better than central limit theorem. Because the volume of sample and the population are small. The advantage of the bootstrap method is that it is a straightforward way to derive estimates of standard errors and confidence intervals, and it is convenient because it avoids the expense of repeating the experiment to obtain sampled data for other groups.\n",
    "\n",
    "The 95% Confidence Interval given by the above approximation is (-804.16, 61,094.62). Our null value is 0, which is does fall within the interval, therefore based on this approximation we would not reject the null hypothesis at a 5% significant level. The null value of the difference between two groups' mean salary is 0, which is not contained in the confidence interval (515.3215, 57918.65). It indicates that the null value 0 is not a reasonable value for the true difference in mean salaries between the two groups. Thus, we reject the null hypothesis and accept the alternative hypothesis. I think the bootstrapping approach is better, with a 95% confidence interval, the results obtained by this method are more realistic."
   ]
  },
  {
   "cell_type": "markdown",
   "id": "6e9408d9-4bf5-4d29-bf01-259be57a4b69",
   "metadata": {},
   "source": [
    "##  4 Discussion"
   ]
  },
  {
   "cell_type": "markdown",
   "id": "069b5eb0",
   "metadata": {},
   "source": [
    "### Expected outcomes and significance"
   ]
  },
  {
   "cell_type": "markdown",
   "id": "30ebe301",
   "metadata": {},
   "source": [
    "In this project, we are expecting to find the salary difference between people who work within the office and people who work remotely, although this will vary with many other factors which we examine in this project. Due to COVID, a lot of companies will allow the employee to choose to work in the office or work remotely. However, our findings on the salary difference might impact people’s decisions regarding their working mode. Future analyses this could lead to include finding what other factors will affect a greater salary. Future analyses could even build off of our project by constructing a model of the salary difference for people who work hybrid vs people who work in the office. Of course, this cannot be done with our model as there we only filter the people with a 100% remote ratio and people who work with a 0% remote ratio.\n"
   ]
  },
  {
   "cell_type": "markdown",
   "id": "ba410b50",
   "metadata": {},
   "source": [
    "## 5 Reference"
   ]
  },
  {
   "cell_type": "markdown",
   "id": "3448914e",
   "metadata": {},
   "source": [
    "Bao, L., Li, T., Xia, X. et al. How does working from home affect developer productivity? — A case study of Baidu during the COVID-19 pandemic. Sci. China Inf. Sci. (2022). https://doi.org/10.1007/s11432-020-3278-4\n",
    "\n",
    "Mehdi, T. Morissette, R. Working from home: Productivity and preference. Statistics Canada. (2021).\n",
    "https://publications.gc.ca/collections/collection_2021/statcan/45-28/CS45-28-1-2021-12-eng.pdf\n",
    "\n",
    "Shahane, S. Data Science Jobs Salaries Dataset. Kaggle. (2022). \n",
    "https://www.kaggle.com/datasets/saurabhshahane/data-science-jobs-salaries\n"
   ]
  }
 ],
 "metadata": {
  "kernelspec": {
   "display_name": "R",
   "language": "R",
   "name": "ir"
  },
  "language_info": {
   "codemirror_mode": "r",
   "file_extension": ".r",
   "mimetype": "text/x-r-source",
   "name": "R",
   "pygments_lexer": "r",
   "version": "4.0.5"
  }
 },
 "nbformat": 4,
 "nbformat_minor": 5
}
