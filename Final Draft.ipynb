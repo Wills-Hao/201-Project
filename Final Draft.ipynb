{
 "cells": [
  {
   "cell_type": "markdown",
   "id": "3eace979-ae41-4588-8fed-52264c689645",
   "metadata": {
    "tags": []
   },
   "source": [
    "Final Report"
   ]
  },
  {
   "cell_type": "markdown",
   "id": "d10fc2d4-ccd5-491d-bcd4-69115018783d",
   "metadata": {},
   "source": [
    "Group Members: Kaiji Lo, Hao Jiang, Jezarah Ebel, Yoson Hsu, Amar Gill\n"
   ]
  },
  {
   "cell_type": "code",
   "execution_count": 4,
   "id": "e5474007-adec-4d8d-be8e-8892e6bfdbf9",
   "metadata": {},
   "outputs": [],
   "source": [
    "library(cowplot)\n",
    "library(dplyr)\n",
    "library(gridExtra)\n",
    "library(tidyverse)\n",
    "library(repr)\n",
    "options(\"scipen\"=-100, \"digits\"=4)"
   ]
  },
  {
   "cell_type": "markdown",
   "id": "f2023ed7-280c-43d3-87c2-824e9ca57970",
   "metadata": {},
   "source": [
    "Introduction\n",
    "\n",
    "During COVID-19 the work from home (WFH) model was adopted by many companies to keep employees safe from the virus; 32% of Canadian employees in 2021 worked from home compared to 4% in 2016 (Mehdi). In general, it has been proven that employee’s productivity is not affected if their personal work environment at home provides good privacy, noise, and allows developers to work with less fragmentation or interruptions (Bao). However, companies have in practice determined compensation, based on the location the employee is working from.\n",
    "\n",
    "If switching from an in office to WFH model, how much can an employee in the Data Science industry expect their salary, on average (mean) and with what spread (standard deviation), to change by?\n",
    "\n",
    "To explore this question, the dataset that we will be using, Data Science Jobs Salaries Dataset, includes salary data for employees in the data science industry such as the work year, experience level, employment type, the job title, salary, employee residence, the ratio of remote work, location of company, and size of company. To answer our questions, we will be looking at the salary in USD and the ratio of remote work (0% remote vs. 100% remote).\n",
    "\n"
   ]
  },
  {
   "cell_type": "code",
   "execution_count": null,
   "id": "50d85a0e-a559-42ad-b338-541aece361d6",
   "metadata": {},
   "outputs": [],
   "source": []
  }
 ],
 "metadata": {
  "kernelspec": {
   "display_name": "R",
   "language": "R",
   "name": "ir"
  },
  "language_info": {
   "codemirror_mode": "r",
   "file_extension": ".r",
   "mimetype": "text/x-r-source",
   "name": "R",
   "pygments_lexer": "r",
   "version": "4.0.5"
  }
 },
 "nbformat": 4,
 "nbformat_minor": 5
}
